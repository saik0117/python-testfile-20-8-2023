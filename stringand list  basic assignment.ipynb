{
 "cells": [
  {
   "cell_type": "markdown",
   "id": "868b737a-40e7-489c-99b8-d7c0fa8f65b3",
   "metadata": {},
   "source": [
    "# TOPIC: String Based Assignment Problem"
   ]
  },
  {
   "cell_type": "markdown",
   "id": "28c684d7-d76d-47a2-a9f2-622baff8f7d6",
   "metadata": {},
   "source": [
    "## 1. Write a program to reverse a string."
   ]
  },
  {
   "cell_type": "code",
   "execution_count": 2,
   "id": "9492106e-f306-49ff-98da-0f6d07c8ba3a",
   "metadata": {},
   "outputs": [
    {
     "name": "stdout",
     "output_type": "stream",
     "text": [
      "saikrishna\n",
      "anhsirkias\n"
     ]
    }
   ],
   "source": [
    "str = \"saikrishna\"\n",
    "print(str)\n",
    "print(str[::-1])"
   ]
  },
  {
   "cell_type": "markdown",
   "id": "c80f8226-1202-4162-8db6-39f1d92ed18e",
   "metadata": {},
   "source": [
    "## 2. Check if a string is a palindrome."
   ]
  },
  {
   "cell_type": "code",
   "execution_count": 4,
   "id": "3adb3416-32e3-421f-b699-c220a9f974dc",
   "metadata": {},
   "outputs": [
    {
     "name": "stdin",
     "output_type": "stream",
     "text": [
      "enter a string madam\n"
     ]
    },
    {
     "name": "stdout",
     "output_type": "stream",
     "text": [
      "madamis a palindrome\n"
     ]
    }
   ],
   "source": [
    "n = input(\"enter a string\")\n",
    "if n==n[::-1]:\n",
    "    print(n+\"is a palindrome\")\n",
    "else:\n",
    "    print(n+\"is not a palindrome\")"
   ]
  },
  {
   "cell_type": "markdown",
   "id": "f1dfd736-5c74-46d7-916c-cbae333b5c14",
   "metadata": {},
   "source": [
    "## 3. Convert a string to uppercase."
   ]
  },
  {
   "cell_type": "code",
   "execution_count": 5,
   "id": "2209e8b7-d8b2-4edf-a849-bcaefde2b0fa",
   "metadata": {},
   "outputs": [
    {
     "data": {
      "text/plain": [
       "'SAIKRISHNA'"
      ]
     },
     "execution_count": 5,
     "metadata": {},
     "output_type": "execute_result"
    }
   ],
   "source": [
    "str =\"saikrishna\"\n",
    "str.upper()"
   ]
  },
  {
   "cell_type": "markdown",
   "id": "93780f0a-dc62-41db-8c59-d7c1a5d69a62",
   "metadata": {},
   "source": [
    "## 4. Convert a string to lowercase."
   ]
  },
  {
   "cell_type": "code",
   "execution_count": 6,
   "id": "e4cc727a-3a1a-45d8-8c09-74a96efcb5fc",
   "metadata": {},
   "outputs": [
    {
     "data": {
      "text/plain": [
       "'pwskills'"
      ]
     },
     "execution_count": 6,
     "metadata": {},
     "output_type": "execute_result"
    }
   ],
   "source": [
    "s =\"PWSKILLS\"\n",
    "s.lower()"
   ]
  },
  {
   "cell_type": "markdown",
   "id": "45953cea-ae9b-4904-b445-7417832e944c",
   "metadata": {},
   "source": [
    "## 5. Count the number of vowels in a string."
   ]
  },
  {
   "cell_type": "code",
   "execution_count": 3,
   "id": "8f471370-c182-42ca-914d-97f5ebc9f9bd",
   "metadata": {},
   "outputs": [
    {
     "name": "stdout",
     "output_type": "stream",
     "text": [
      "Number of vowels: 7\n"
     ]
    }
   ],
   "source": [
    "def count_vowels(string):\n",
    "    vowel_count = 0\n",
    "    string = string.lower()\n",
    "    vowels = set(\"aeiou\")\n",
    "    for char in string:\n",
    "        if char in vowels:\n",
    "            vowel_count += 1\n",
    "    return vowel_count\n",
    "input_string = \"Hello, how are you?\"\n",
    "result = count_vowels(input_string)\n",
    "print(\"Number of vowels:\", result)\n"
   ]
  },
  {
   "cell_type": "markdown",
   "id": "9c17edc8-4962-48b1-a125-426262b40891",
   "metadata": {},
   "source": [
    "## 6. Count the number of consonants in a string."
   ]
  },
  {
   "cell_type": "code",
   "execution_count": 4,
   "id": "41895dfe-b378-4cc1-b97e-d09be79a639e",
   "metadata": {},
   "outputs": [
    {
     "name": "stdin",
     "output_type": "stream",
     "text": [
      "Enter a string:  saikrishna\n"
     ]
    },
    {
     "name": "stdout",
     "output_type": "stream",
     "text": [
      "Number of consonants: 6\n"
     ]
    }
   ],
   "source": [
    "def count_consonants(string):\n",
    "    consonant_count = 0\n",
    "    consonants = \"bcdfghjklmnpqrstvwxyzBCDFGHJKLMNPQRSTVWXYZ\"\n",
    "    for char in string:\n",
    "        if char in consonants:\n",
    "            consonant_count += 1\n",
    "    return consonant_count\n",
    "input_string = input(\"Enter a string: \")\n",
    "result = count_consonants(input_string)\n",
    "print(\"Number of consonants:\", result)"
   ]
  },
  {
   "cell_type": "markdown",
   "id": "08bef587-eb6a-49e9-833f-1b29a0d4a7ca",
   "metadata": {},
   "source": [
    "## 7. Remove all whitespaces from a string."
   ]
  },
  {
   "cell_type": "code",
   "execution_count": 5,
   "id": "d1aa67f3-8de0-49ab-9f93-35d1059119e5",
   "metadata": {},
   "outputs": [
    {
     "name": "stdout",
     "output_type": "stream",
     "text": [
      "HelloWorld!mynameissaikrishna?\n"
     ]
    }
   ],
   "source": [
    "def remove_whitespace(input_string):\n",
    "    result = \"\"\n",
    "    for char in input_string:\n",
    "        if char != \" \":\n",
    "            result += char\n",
    "    return result\n",
    "input_string = \"Hello   World!  my name is sai krishna?\"\n",
    "output_string = remove_whitespace(input_string)\n",
    "print(output_string)"
   ]
  },
  {
   "cell_type": "markdown",
   "id": "6b164b5e-30c7-4835-be75-4e9c99ac816b",
   "metadata": {},
   "source": [
    "## 8. Find the length of a string without using the `len()` function."
   ]
  },
  {
   "cell_type": "code",
   "execution_count": 7,
   "id": "3db786ff-f19d-4da9-8ecf-28ab56008195",
   "metadata": {},
   "outputs": [
    {
     "name": "stdout",
     "output_type": "stream",
     "text": [
      "The length of the string is: 39\n"
     ]
    }
   ],
   "source": [
    "count = 0\n",
    "for char in input_string:\n",
    "    count += 1\n",
    "print(\"The length of the string is:\",count)"
   ]
  },
  {
   "cell_type": "markdown",
   "id": "013550d1-5768-40fd-a5e0-715af4b87661",
   "metadata": {},
   "source": [
    "## 9. Check if a string contains a specific word."
   ]
  },
  {
   "cell_type": "code",
   "execution_count": 8,
   "id": "41ebf995-520d-486f-8e02-6e4f1cfbb122",
   "metadata": {},
   "outputs": [
    {
     "name": "stdin",
     "output_type": "stream",
     "text": [
      "Enter a string:  my name is saikrishna\n",
      "Enter the specific word to check for: krishna\n"
     ]
    },
    {
     "name": "stdout",
     "output_type": "stream",
     "text": [
      "The string contains the word 'krishna'.\n"
     ]
    }
   ],
   "source": [
    "input_string = input(\"Enter a string: \")\n",
    "specific_word = input(\"Enter the specific word to check for:\")\n",
    "if specific_word in input_string:\n",
    "    print(f\"The string contains the word '{specific_word}'.\")\n",
    "else:\n",
    "    print(f\"The string does not contain the word '{specific_word}'.\")"
   ]
  },
  {
   "cell_type": "markdown",
   "id": "6f58fae5-ccbe-44d7-9d49-b49a8073831d",
   "metadata": {},
   "source": [
    "## 10. Replace a word in a string with another word."
   ]
  },
  {
   "cell_type": "code",
   "execution_count": 2,
   "id": "a89b5ca5-d2fb-42aa-acb7-6b3e291d5228",
   "metadata": {},
   "outputs": [
    {
     "name": "stdin",
     "output_type": "stream",
     "text": [
      "Enter a sentence:  hello welcome to python\n",
      "Enter the word to be replaced:  welcome\n",
      "Enter the new word: world\n"
     ]
    },
    {
     "name": "stdout",
     "output_type": "stream",
     "text": [
      "Modified string: hello world to python\n"
     ]
    }
   ],
   "source": [
    "input_string = input(\"Enter a sentence: \")\n",
    "old_word = input(\"Enter the word to be replaced: \")\n",
    "new_word = input(\"Enter the new word:\") \n",
    "modified_string = input_string.replace(old_word, new_word)\n",
    "print(\"Modified string:\", modified_string)"
   ]
  },
  {
   "cell_type": "markdown",
   "id": "d5727e85-0a76-4faa-a810-651507000ac0",
   "metadata": {},
   "source": [
    "## 11. Count the occurrences of a word in a string."
   ]
  },
  {
   "cell_type": "code",
   "execution_count": 4,
   "id": "c47903fd-a377-4a7a-8579-6fc179c7dfb9",
   "metadata": {},
   "outputs": [
    {
     "name": "stdout",
     "output_type": "stream",
     "text": [
      "The word 'python' appears 1 times in the input string.\n"
     ]
    }
   ],
   "source": [
    "def count_word_occurrences(input_string, target_word):\n",
    "    word_count = 0\n",
    "    words = input_string.split()\n",
    "    for word in words:\n",
    "        if word == target_word:\n",
    "            word_count += 1\n",
    "    return word_count\n",
    "\n",
    "\n",
    "input_string = \"This is a python class. This class contains the word 'python' multiple times.\"\n",
    "target_word = \"python\"\n",
    "result = count_word_occurrences(input_string, target_word)\n",
    "print(f\"The word '{target_word}' appears {result} times in the input string.\")"
   ]
  },
  {
   "cell_type": "markdown",
   "id": "3b1b3987-9716-489b-af12-4333a734c6b0",
   "metadata": {},
   "source": [
    "## 12. Find the first occurrence of a word in a string."
   ]
  },
  {
   "cell_type": "code",
   "execution_count": 10,
   "id": "e29e7e30-4726-42ce-b7c9-f81d6b78bacc",
   "metadata": {},
   "outputs": [
    {
     "name": "stdout",
     "output_type": "stream",
     "text": [
      "Index of the first occurrence: 19\n"
     ]
    }
   ],
   "source": [
    "def find_first_occurrence(text, word):\n",
    "    index = text.find(word)\n",
    "    if index == -1:\n",
    "        return None  \n",
    "    return index\n",
    "text = \"This is an example sentence. This sentence contains the word example.\"\n",
    "word = \"sentence\"\n",
    "result = find_first_occurrence(text, word)\n",
    "print(\"Index of the first occurrence:\", result)"
   ]
  },
  {
   "cell_type": "markdown",
   "id": "71a12407-9f87-4f86-8ec1-facb8214cbf2",
   "metadata": {},
   "source": [
    "## 13. Find the last occurrence of a word in a string."
   ]
  },
  {
   "cell_type": "code",
   "execution_count": 6,
   "id": "b80bc113-9d23-4995-b0ca-4ab216dbd993",
   "metadata": {},
   "outputs": [
    {
     "name": "stdout",
     "output_type": "stream",
     "text": [
      "Index of the last occurrence: 66\n"
     ]
    }
   ],
   "source": [
    "def find_last_occurrence(text, word):\n",
    "    index = text.rfind(word)\n",
    "    if index == -1:\n",
    "        return None  \n",
    "    return index\n",
    "text = \"This is an example sentence. This sentence also contains the word example.\"\n",
    "word = \"example\"\n",
    "result = find_last_occurrence(text, word)\n",
    "print(\"Index of the last occurrence:\", result)"
   ]
  },
  {
   "cell_type": "markdown",
   "id": "cb5e54b4-ea2a-485d-917c-a1016c48793b",
   "metadata": {},
   "source": [
    "## 14. Split a string into a list of words."
   ]
  },
  {
   "cell_type": "code",
   "execution_count": 7,
   "id": "018d80ca-7183-490a-8974-33567d0f74e4",
   "metadata": {},
   "outputs": [
    {
     "name": "stdout",
     "output_type": "stream",
     "text": [
      "List of words: ['This', 'is', 'an', 'python', 'string', 'class.']\n"
     ]
    }
   ],
   "source": [
    "def split_string_into_words(text):\n",
    "    words_list = text.split()\n",
    "    return words_list\n",
    "text = \"This is an python string class.\"\n",
    "words = split_string_into_words(text)\n",
    "print(\"List of words:\", words)"
   ]
  },
  {
   "cell_type": "markdown",
   "id": "0905dfb3-1b2c-4405-8b70-d9ff0580a0b7",
   "metadata": {},
   "source": [
    "## 15. Join a list of words into a string."
   ]
  },
  {
   "cell_type": "code",
   "execution_count": 8,
   "id": "f63860b2-411c-4605-ab83-ea1db39409e1",
   "metadata": {},
   "outputs": [
    {
     "name": "stdout",
     "output_type": "stream",
     "text": [
      "Joined string: This is an example sentence.\n"
     ]
    }
   ],
   "source": [
    "def join_words_into_string(words_list):\n",
    "    joined_string = ' '.join(words_list)\n",
    "    return joined_string\n",
    "words = [\"This\", \"is\", \"an\", \"example\", \"sentence.\"]\n",
    "text = join_words_into_string(words)\n",
    "print(\"Joined string:\", text)"
   ]
  },
  {
   "cell_type": "markdown",
   "id": "9f811601-18aa-4822-b201-bb61d59d1bb5",
   "metadata": {},
   "source": [
    "## 16. Convert a string where words are separated by spaces to one where words are separated by underscores.\n"
   ]
  },
  {
   "cell_type": "code",
   "execution_count": 9,
   "id": "94722ab4-4221-4391-8f61-af8cea7d6154",
   "metadata": {},
   "outputs": [
    {
     "name": "stdout",
     "output_type": "stream",
     "text": [
      "Converted text: This_is_my_first_python_class_in_string.\n"
     ]
    }
   ],
   "source": [
    "def convert_to_underscore_separated(text):\n",
    "    underscore_separated = text.replace(\" \", \"_\")\n",
    "    return underscore_separated\n",
    "text = \"This is my first python class in string.\"\n",
    "converted_text = convert_to_underscore_separated(text)\n",
    "print(\"Converted text:\", converted_text)"
   ]
  },
  {
   "cell_type": "markdown",
   "id": "62ca4589-8532-4ab1-b7bf-9a2b206d01ba",
   "metadata": {},
   "source": [
    "## 17. Check if a string starts with a specific word or phrase."
   ]
  },
  {
   "cell_type": "code",
   "execution_count": 12,
   "id": "92d0717d-d79f-4aed-a57d-53d036ecdd7e",
   "metadata": {},
   "outputs": [
    {
     "name": "stdout",
     "output_type": "stream",
     "text": [
      "The text does not start with the prefix.\n"
     ]
    }
   ],
   "source": [
    "def starts_with(text, prefix):\n",
    "    is_start = text.startswith(prefix)\n",
    "    return is_start\n",
    "text = \"Hello, world!\"\n",
    "prefix = \"World\"\n",
    "result = starts_with(text, prefix)\n",
    "if result:\n",
    "    print(\"The text starts with the prefix.\")\n",
    "else:\n",
    "    print(\"The text does not start with the prefix.\")"
   ]
  },
  {
   "cell_type": "markdown",
   "id": "7163650e-ad75-4116-9ca4-ed01c462ca28",
   "metadata": {},
   "source": [
    "## 18. Check if a string ends with a specific word or phrase."
   ]
  },
  {
   "cell_type": "code",
   "execution_count": 13,
   "id": "c75e1cfd-ebfd-4657-bc5e-db4a188d1fcd",
   "metadata": {},
   "outputs": [
    {
     "name": "stdout",
     "output_type": "stream",
     "text": [
      "The text does not end with the suffix.\n"
     ]
    }
   ],
   "source": [
    "def ends_with(text, suffix):\n",
    "    is_end = text.endswith(suffix)\n",
    "    return is_end\n",
    "text = \"Hello, world!\"\n",
    "suffix = \"Hello!\"\n",
    "result = ends_with(text, suffix)\n",
    "if result:\n",
    "    print(\"The text ends with the suffix.\")\n",
    "else:\n",
    "    print(\"The text does not end with the suffix.\")"
   ]
  },
  {
   "cell_type": "markdown",
   "id": "ab4a8656-0567-4508-80fe-5f4887f9b209",
   "metadata": {},
   "source": [
    "## 19. Convert a string to title case (e.g., \"hello world\" to \"Hello World\")."
   ]
  },
  {
   "cell_type": "code",
   "execution_count": 15,
   "id": "6fee9782-eacf-4b19-8871-c6fe781d70b7",
   "metadata": {},
   "outputs": [
    {
     "name": "stdout",
     "output_type": "stream",
     "text": [
      "Title case: Hello World\n"
     ]
    }
   ],
   "source": [
    "def convert_to_title_case(text):\n",
    "    title_case_text = text.title()\n",
    "    return title_case_text\n",
    "text = \"hello world\"\n",
    "title_case_result = convert_to_title_case(text)\n",
    "print(\"Title case:\", title_case_result)"
   ]
  },
  {
   "cell_type": "markdown",
   "id": "d48e5beb-be3e-4a16-a0f4-76c5bd8da9f7",
   "metadata": {},
   "source": [
    "## 20. Find the longest word in a string."
   ]
  },
  {
   "cell_type": "code",
   "execution_count": 17,
   "id": "6508efac-2540-4503-b7c7-3b051ea4d77d",
   "metadata": {},
   "outputs": [
    {
     "name": "stdout",
     "output_type": "stream",
     "text": [
      "Longest word: strings\n"
     ]
    }
   ],
   "source": [
    "def find_longest_word(text):\n",
    "    words = text.split()\n",
    "    longest_word = \"\"\n",
    "    max_length = 0\n",
    "    for word in words:\n",
    "        if len(word) > max_length:\n",
    "            max_length = len(word)\n",
    "            longest_word = word\n",
    "    return longest_word\n",
    "text = \"This is an python strings  class in pw skills .\"\n",
    "longest_word = find_longest_word(text)\n",
    "print(\"Longest word:\", longest_word)"
   ]
  },
  {
   "cell_type": "markdown",
   "id": "0bf2cc57-0015-46b8-beca-54bd834b9c61",
   "metadata": {},
   "source": [
    "## 21. Find the shortest word in a string."
   ]
  },
  {
   "cell_type": "code",
   "execution_count": 21,
   "id": "00bb4db1-d885-44cb-99ac-5891aa1bb5d9",
   "metadata": {},
   "outputs": [
    {
     "name": "stdout",
     "output_type": "stream",
     "text": [
      "Shortest word: is\n"
     ]
    }
   ],
   "source": [
    "def find_shortest_word(text):\n",
    "    words = text.split()\n",
    "    shortest_word = None\n",
    "    min_length = float('inf')  \n",
    "    for word in words:\n",
    "        if len(word) < min_length:\n",
    "            min_length = len(word)\n",
    "            shortest_word = word\n",
    "    return shortest_word\n",
    "text = \"This is an example sentence with some short words.\"\n",
    "shortest_word = find_shortest_word(text)\n",
    "print(\"Shortest word:\", shortest_word)"
   ]
  },
  {
   "cell_type": "markdown",
   "id": "f2e26525-0394-4beb-a58b-ee9abc235aa2",
   "metadata": {},
   "source": [
    "## 22. Reverse the order of words in a string."
   ]
  },
  {
   "cell_type": "code",
   "execution_count": 1,
   "id": "67ef2ac7-26b2-4dad-927a-6e4f2c668ae8",
   "metadata": {},
   "outputs": [
    {
     "name": "stdout",
     "output_type": "stream",
     "text": [
      "gnirts no ssalc slliks wp\n"
     ]
    }
   ],
   "source": [
    "def reverse_words(string):\n",
    "    string = string[::-1]\n",
    "    return string\n",
    "string =\"pw skills class on string\"\n",
    "print(reverse_words(string))"
   ]
  },
  {
   "cell_type": "markdown",
   "id": "2e2831a7-47fc-4e3a-b5c3-dc3ba8010e6c",
   "metadata": {},
   "source": [
    "## 23. Check if a string is alphanumeric."
   ]
  },
  {
   "cell_type": "code",
   "execution_count": 2,
   "id": "b2280972-3e09-44ca-9070-b7c8b547176a",
   "metadata": {},
   "outputs": [
    {
     "name": "stdout",
     "output_type": "stream",
     "text": [
      "The string is alphanumeric.\n"
     ]
    }
   ],
   "source": [
    "def is_alphanumeric(text):\n",
    "    return text.isalnum()\n",
    "text = \"Hello123\"\n",
    "result = is_alphanumeric(text)\n",
    "if result:\n",
    "    print(\"The string is alphanumeric.\")\n",
    "else:\n",
    "    print(\"The string is not alphanumeric.\")"
   ]
  },
  {
   "cell_type": "markdown",
   "id": "8573e412-e108-4180-a0e6-4ecd82ec8673",
   "metadata": {},
   "source": [
    "## 24. Extract all digits from a string."
   ]
  },
  {
   "cell_type": "code",
   "execution_count": 4,
   "id": "465ead17-b138-4f1c-9eab-f5559c45c031",
   "metadata": {},
   "outputs": [
    {
     "name": "stdout",
     "output_type": "stream",
     "text": [
      "Extracted digits: 123456\n"
     ]
    }
   ],
   "source": [
    "def extract_digits(text):\n",
    "    digits = \"\"\n",
    "    for i in text:\n",
    "        if i.isdigit():\n",
    "            digits += i\n",
    "\n",
    "    \n",
    "    return digits\n",
    "text = \"Hello123World456\"\n",
    "extracted_digits = extract_digits(text)\n",
    "print(\"Extracted digits:\", extracted_digits)"
   ]
  },
  {
   "cell_type": "markdown",
   "id": "18470f08-dc4a-4472-bdfa-4354b0583988",
   "metadata": {},
   "source": [
    "## 25. Extract all alphabets from a string."
   ]
  },
  {
   "cell_type": "code",
   "execution_count": 5,
   "id": "4d5288ec-3200-409e-a245-c985d285cdf2",
   "metadata": {},
   "outputs": [
    {
     "name": "stdout",
     "output_type": "stream",
     "text": [
      "H e l l o W o r l d\n"
     ]
    }
   ],
   "source": [
    "def extract_alphabets(input_string):\n",
    "    alphabets = ' '.join([char for char in input_string if char.isalpha()])\n",
    "    return alphabets\n",
    "input_string = \"Hello123World456\"\n",
    "result = extract_alphabets(input_string)\n",
    "print(result)"
   ]
  },
  {
   "cell_type": "markdown",
   "id": "002e9207-879d-4e0c-b5f4-b33a13d1551f",
   "metadata": {},
   "source": [
    "## 26. Count the number of uppercase letters in a string."
   ]
  },
  {
   "cell_type": "code",
   "execution_count": 6,
   "id": "6827fb76-e0f9-456b-9d94-507925eaa6e8",
   "metadata": {},
   "outputs": [
    {
     "name": "stdout",
     "output_type": "stream",
     "text": [
      "13\n"
     ]
    }
   ],
   "source": [
    "def count_uppercase(input_string):\n",
    "    uppercase_count = sum(1 for char in input_string if char.isupper())\n",
    "    return uppercase_count\n",
    "input_string = \"PW SKiLis liVE class ON PYTHon\"\n",
    "result = count_uppercase(input_string)\n",
    "print(result)"
   ]
  },
  {
   "cell_type": "markdown",
   "id": "e86a1132-e978-4084-9d42-e728365c8153",
   "metadata": {},
   "source": [
    "## 27. Count the number of lowercase letters in a string."
   ]
  },
  {
   "cell_type": "code",
   "execution_count": 8,
   "id": "cb7f23c8-8b1a-44ab-b732-14e92ec89d86",
   "metadata": {},
   "outputs": [
    {
     "name": "stdout",
     "output_type": "stream",
     "text": [
      "12\n"
     ]
    }
   ],
   "source": [
    "def count_lowercase(input_string):\n",
    "    lowercase_count = sum(1 for char in input_string if char.islower())\n",
    "    return lowercase_count\n",
    "input_string = \"PW SKiLis liVE class ON PYTHon\"\n",
    "result = count_lowercase(input_string)\n",
    "print(result)"
   ]
  },
  {
   "cell_type": "markdown",
   "id": "1aefc2af-ea3d-43c4-8bed-dc2f8c09e0e6",
   "metadata": {},
   "source": [
    "## 28. Swap the case of each character in a string."
   ]
  },
  {
   "cell_type": "code",
   "execution_count": 9,
   "id": "0bb8cb9c-adb8-4b44-b6cd-9755a444ade8",
   "metadata": {},
   "outputs": [
    {
     "name": "stdout",
     "output_type": "stream",
     "text": [
      "hELLOworld\n"
     ]
    }
   ],
   "source": [
    "def swap_case(input_string):\n",
    "    swapped_string = input_string.swapcase()\n",
    "    return swapped_string\n",
    "input_string = \"HelloWORLD\"\n",
    "result = swap_case(input_string)\n",
    "print(result)"
   ]
  },
  {
   "cell_type": "markdown",
   "id": "5f9ed8eb-e886-4082-a9be-a91b4a0ac6a5",
   "metadata": {},
   "source": [
    "## 29. Remove a specific word from a string."
   ]
  },
  {
   "cell_type": "code",
   "execution_count": 12,
   "id": "e3c47ac3-4fe0-48b0-b6e0-204f68429a04",
   "metadata": {},
   "outputs": [
    {
     "name": "stdout",
     "output_type": "stream",
     "text": [
      "Hello world, welcome to the of python programming in class.\n"
     ]
    }
   ],
   "source": [
    "def remove_word(input_string, word_to_remove):\n",
    "    words = input_string.split()  \n",
    "    filtered_words = [word for word in words if word != word_to_remove] \n",
    "    modified_string = ' '.join(filtered_words)  \n",
    "    return modified_string\n",
    "input_string = \"Hello world, welcome to the world of python programming in class.\"\n",
    "word_to_remove = \"world\"\n",
    "result = remove_word(input_string, word_to_remove)\n",
    "print(result)"
   ]
  },
  {
   "cell_type": "markdown",
   "id": "716799cb-5426-4145-89bc-3b17c91e09ac",
   "metadata": {},
   "source": [
    "## 30. Check if a string is a valid email address."
   ]
  },
  {
   "cell_type": "code",
   "execution_count": 19,
   "id": "8b07d9f4-cc06-4b94-b420-91f886d29dd8",
   "metadata": {},
   "outputs": [
    {
     "name": "stdout",
     "output_type": "stream",
     "text": [
      "True\n",
      "True\n"
     ]
    }
   ],
   "source": [
    "import re\n",
    "def is_valid_email(email):\n",
    "    pattern = r'^[\\w\\.-]+@[\\w\\.-]+\\.\\w+$'  \n",
    "    if re.match(pattern, email):\n",
    "        return True\n",
    "    else:\n",
    "        return True\n",
    "email1 = \"example@email.com\"\n",
    "email2 = \"invalid@email\"\n",
    "result1 = is_valid_email(email1)\n",
    "result2 = is_valid_email(email2)\n",
    "print(result1)\n",
    "print(result2)"
   ]
  },
  {
   "cell_type": "markdown",
   "id": "d1bcbdca-bdd0-45af-a449-403e55a8e27b",
   "metadata": {},
   "source": [
    "## 31. Extract the username from an email address string."
   ]
  },
  {
   "cell_type": "code",
   "execution_count": 20,
   "id": "7c646f9a-db0c-4e98-a4fc-a02e29abeb2a",
   "metadata": {},
   "outputs": [
    {
     "name": "stdout",
     "output_type": "stream",
     "text": [
      "saikrishna\n"
     ]
    }
   ],
   "source": [
    "def extract_username(email):\n",
    "    username = email.split('@')[0]\n",
    "    return username\n",
    "email = \"saikrishna@email.com\"\n",
    "result = extract_username(email)\n",
    "print(result)"
   ]
  },
  {
   "cell_type": "markdown",
   "id": "36f048ae-e056-4dc6-a924-3772a5de8418",
   "metadata": {},
   "source": [
    "## 32. Extract the domain name from an email address string."
   ]
  },
  {
   "cell_type": "code",
   "execution_count": 21,
   "id": "41e9434d-d363-4a39-a2f1-5a4467083dbc",
   "metadata": {},
   "outputs": [
    {
     "name": "stdout",
     "output_type": "stream",
     "text": [
      "email.com\n"
     ]
    }
   ],
   "source": [
    "def extract_domain(email):\n",
    "    domain = email.split('@')[1]  \n",
    "    return domain\n",
    "email = \"saikrishna@email.com\"\n",
    "result = extract_domain(email)\n",
    "print(result)"
   ]
  },
  {
   "cell_type": "markdown",
   "id": "8156fc1f-375e-4669-b4af-2686406569b7",
   "metadata": {},
   "source": [
    "## 33. Replace multiple spaces in a string with a single space."
   ]
  },
  {
   "cell_type": "code",
   "execution_count": 22,
   "id": "6809dc03-3d5a-458c-a6bd-7534cf18ac27",
   "metadata": {},
   "outputs": [
    {
     "name": "stdout",
     "output_type": "stream",
     "text": [
      "Hello world! How are you?\n"
     ]
    }
   ],
   "source": [
    "def replace_multiple_spaces(input_string):\n",
    "    cleaned_string = ' '.join(input_string.split())  \n",
    "    return cleaned_string\n",
    "input_string = \"Hello     world!   How   are   you?\"\n",
    "result = replace_multiple_spaces(input_string)\n",
    "print(result)"
   ]
  },
  {
   "cell_type": "markdown",
   "id": "d0a497fb-19a6-4d13-adb7-eea017835a8f",
   "metadata": {},
   "source": [
    "## 34. Check if a string is a valid URL."
   ]
  },
  {
   "cell_type": "code",
   "execution_count": 23,
   "id": "923e38a7-2880-41e2-99a6-358cb04f4c97",
   "metadata": {},
   "outputs": [
    {
     "name": "stdout",
     "output_type": "stream",
     "text": [
      "True\n",
      "False\n"
     ]
    }
   ],
   "source": [
    "from urllib.parse import urlparse\n",
    "\n",
    "def is_valid_url(url):\n",
    "    try:\n",
    "        result = urlparse(url)\n",
    "        return all([result.scheme, result.netloc]) \n",
    "    except ValueError:\n",
    "        return False\n",
    "url1 = \"https://www.example.com\"\n",
    "url2 = \"invalid-url\"\n",
    "result1 = is_valid_url(url1)\n",
    "result2 = is_valid_url(url2)\n",
    "print(result1)  \n",
    "print(result2) "
   ]
  },
  {
   "cell_type": "markdown",
   "id": "6c34d0b9-8752-4871-b54d-00843da17f4b",
   "metadata": {},
   "source": [
    "## 35. Extract the protocol (http or https) from a URL string."
   ]
  },
  {
   "cell_type": "code",
   "execution_count": 24,
   "id": "6ea931cc-b641-4073-8b5f-35ff6461a40b",
   "metadata": {},
   "outputs": [
    {
     "name": "stdout",
     "output_type": "stream",
     "text": [
      "Protocol 1: https\n",
      "Protocol 2: http\n",
      "Protocol 3: ftp\n"
     ]
    }
   ],
   "source": [
    "def extract_protocol(url):\n",
    "    protocol_end = url.find(\"://\")\n",
    "\n",
    "    if protocol_end != -1:\n",
    "        protocol = url[:protocol_end]\n",
    "        return protocol\n",
    "    else:\n",
    "        return None\n",
    "url1 = \"https://www.example.com\"\n",
    "url2 = \"http://google.com\"\n",
    "url3 = \"ftp://ftp.example.com\"\n",
    "\n",
    "protocol1 = extract_protocol(url1)\n",
    "protocol2 = extract_protocol(url2)\n",
    "protocol3 = extract_protocol(url3)\n",
    "\n",
    "print(\"Protocol 1:\", protocol1)\n",
    "print(\"Protocol 2:\", protocol2)\n",
    "print(\"Protocol 3:\", protocol3)"
   ]
  },
  {
   "cell_type": "markdown",
   "id": "72ad9469-36a7-4d74-9eec-72c741ac592c",
   "metadata": {},
   "source": [
    "## 36. Find the frequency of each character in a string."
   ]
  },
  {
   "cell_type": "code",
   "execution_count": 25,
   "id": "32164b96-4bfe-48a6-91c1-004df84a142e",
   "metadata": {},
   "outputs": [
    {
     "name": "stdout",
     "output_type": "stream",
     "text": [
      "Character: 'h', Frequency: 1\n",
      "Character: 'e', Frequency: 1\n",
      "Character: 'l', Frequency: 3\n",
      "Character: 'o', Frequency: 2\n",
      "Character: ' ', Frequency: 1\n",
      "Character: 'w', Frequency: 1\n",
      "Character: 'r', Frequency: 1\n",
      "Character: 'd', Frequency: 1\n"
     ]
    }
   ],
   "source": [
    "def character_frequency(input_string):\n",
    "    frequency = {} \n",
    "    for char in input_string:\n",
    "        if char in frequency:\n",
    "            frequency[char] += 1  \n",
    "        else:\n",
    "            frequency[char] = 1   \n",
    "\n",
    "    return frequency\n",
    "input_str = \"hello world\"\n",
    "char_freq = character_frequency(input_str)\n",
    "for char, freq in char_freq.items():\n",
    "    print(f\"Character: '{char}', Frequency: {freq}\")"
   ]
  },
  {
   "cell_type": "markdown",
   "id": "1dee2856-a3c0-4e6a-9d0e-709b6b912539",
   "metadata": {},
   "source": [
    "## 37. Remove all punctuation from a string."
   ]
  },
  {
   "cell_type": "code",
   "execution_count": 27,
   "id": "426fc74b-c9a4-4593-90ec-039ace032f6b",
   "metadata": {},
   "outputs": [
    {
     "name": "stdout",
     "output_type": "stream",
     "text": [
      "Original string: Hello, world! How's it python class going?\n",
      "Cleaned string: Hello world Hows it python class going\n"
     ]
    }
   ],
   "source": [
    "import string\n",
    "def remove_punctuation(input_string):\n",
    "    translator = str.maketrans(\"\", \"\", string.punctuation)\n",
    "    clean_string = input_string.translate(translator)\n",
    "    return clean_string\n",
    "input_str = \"Hello, world! How's it python class going?\"\n",
    "cleaned_str = remove_punctuation(input_str)\n",
    "print(\"Original string:\", input_str)\n",
    "print(\"Cleaned string:\", cleaned_str)"
   ]
  },
  {
   "cell_type": "markdown",
   "id": "332e9517-ced1-4071-9e25-d81b685dd6c3",
   "metadata": {},
   "source": [
    "## 38. Check if a string contains only digits."
   ]
  },
  {
   "cell_type": "code",
   "execution_count": 28,
   "id": "761d70ab-a233-4596-be11-026207987f8e",
   "metadata": {},
   "outputs": [
    {
     "name": "stdout",
     "output_type": "stream",
     "text": [
      "'12345' contains only digits: True\n",
      "'Hello123' contains only digits: False\n",
      "'456.789' contains only digits: False\n"
     ]
    }
   ],
   "source": [
    "def contains_only_digits(input_string):\n",
    "    return input_string.isdigit()\n",
    "\n",
    "string1 = \"12345\"\n",
    "string2 = \"Hello123\"\n",
    "string3 = \"456.789\"\n",
    "\n",
    "\n",
    "result1 = contains_only_digits(string1)\n",
    "result2 = contains_only_digits(string2)\n",
    "result3 = contains_only_digits(string3)\n",
    "\n",
    "print(f\"'{string1}' contains only digits:\", result1)\n",
    "print(f\"'{string2}' contains only digits:\", result2)\n",
    "print(f\"'{string3}' contains only digits:\", result3)"
   ]
  },
  {
   "cell_type": "markdown",
   "id": "aef55f3e-f615-409e-8568-3474bad720f0",
   "metadata": {},
   "source": [
    "## 39. Check if a string contains only alphabets."
   ]
  },
  {
   "cell_type": "code",
   "execution_count": 29,
   "id": "16e596fe-6c23-4922-92ed-8f85fe5eba3f",
   "metadata": {},
   "outputs": [
    {
     "name": "stdout",
     "output_type": "stream",
     "text": [
      "'Hello' contains only alphabets: True\n",
      "'Hello123' contains only alphabets: False\n",
      "'saikrishna' contains only alphabets: True\n"
     ]
    }
   ],
   "source": [
    "def contains_only_alphabets(input_string):\n",
    "    return input_string.isalpha()\n",
    "\n",
    "string1 = \"Hello\"\n",
    "string2 = \"Hello123\"\n",
    "string3 = \"saikrishna\"\n",
    "\n",
    "result1 = contains_only_alphabets(string1)\n",
    "result2 = contains_only_alphabets(string2)\n",
    "result3 = contains_only_alphabets(string3)\n",
    "\n",
    "print(f\"'{string1}' contains only alphabets:\", result1)\n",
    "print(f\"'{string2}' contains only alphabets:\", result2)\n",
    "print(f\"'{string3}' contains only alphabets:\", result3)"
   ]
  },
  {
   "cell_type": "markdown",
   "id": "0b14b31e-1702-4941-bc1e-0561f432854e",
   "metadata": {},
   "source": [
    "## 40. Convert a string to a list of characters."
   ]
  },
  {
   "cell_type": "code",
   "execution_count": 30,
   "id": "8d56b412-8fef-42d4-ac61-88fbf0dfb367",
   "metadata": {},
   "outputs": [
    {
     "name": "stdout",
     "output_type": "stream",
     "text": [
      "Original string: Hello, world!\n",
      "List of characters: ['H', 'e', 'l', 'l', 'o', ',', ' ', 'w', 'o', 'r', 'l', 'd', '!']\n"
     ]
    }
   ],
   "source": [
    "def string_to_list(input_string):\n",
    "    char_list = list(input_string)\n",
    "    return char_list\n",
    "input_str = \"Hello, world!\"\n",
    "char_list = string_to_list(input_str)\n",
    "print(\"Original string:\", input_str)\n",
    "print(\"List of characters:\", char_list)"
   ]
  },
  {
   "cell_type": "markdown",
   "id": "8f2222c7-312f-4ed1-a476-4518f252f4db",
   "metadata": {},
   "source": [
    "## 41. Check if two strings are anagrams."
   ]
  },
  {
   "cell_type": "code",
   "execution_count": 31,
   "id": "62e40210-c891-4dc1-bff1-c1b181ec2096",
   "metadata": {},
   "outputs": [
    {
     "name": "stdout",
     "output_type": "stream",
     "text": [
      "'listen' and 'silent' are anagrams: True\n",
      "'hello' and 'world' are anagrams: False\n"
     ]
    }
   ],
   "source": [
    "def are_anagrams(str1, str2):\n",
    "    str1 = str1.replace(\" \", \"\").lower()\n",
    "    str2 = str2.replace(\" \", \"\").lower()\n",
    "    return sorted(str1) == sorted(str2)\n",
    "\n",
    "string1 = \"listen\"\n",
    "string2 = \"silent\"\n",
    "string3 = \"hello\"\n",
    "string4 = \"world\"\n",
    "\n",
    "\n",
    "result1 = are_anagrams(string1, string2)\n",
    "result2 = are_anagrams(string3, string4)\n",
    "\n",
    "\n",
    "print(f\"'{string1}' and '{string2}' are anagrams:\", result1)\n",
    "print(f\"'{string3}' and '{string4}' are anagrams:\", result2)"
   ]
  },
  {
   "cell_type": "markdown",
   "id": "73814741-261d-43cd-b22a-b7a05fffd3f2",
   "metadata": {},
   "source": [
    "## 42. Encode a string using a Caesar cipher."
   ]
  },
  {
   "cell_type": "code",
   "execution_count": 38,
   "id": "096a53ef-fb34-4082-8cf3-40c56b49e0a9",
   "metadata": {},
   "outputs": [
    {
     "name": "stdout",
     "output_type": "stream",
     "text": [
      "Encoded text: khoor, zruog!\n"
     ]
    }
   ],
   "source": [
    "def caesar_cipher(text, shift):\n",
    "  \"\"\"\n",
    "  Encodes a string using a Caesar cipher.\n",
    "\n",
    "  Args:\n",
    "    text: The string to encode.\n",
    "    shift: The number of positions to shift each letter.\n",
    "\n",
    "  Returns:\n",
    "    The encoded string.\n",
    "  \"\"\"\n",
    "  encoded_text = \"\"\n",
    "\n",
    "  for char in text:\n",
    "    if char.isalpha():\n",
    "      encoded_char = chr((ord(char) + shift - ord('a')) % 26 + ord('a'))\n",
    "    else:\n",
    "      encoded_char = char\n",
    "    encoded_text += encoded_char\n",
    "  return encoded_text\n",
    "text = \"hello, world!\"\n",
    "shift = 3\n",
    "encoded_text = caesar_cipher(text, shift)\n",
    "print(\"Encoded text:\", encoded_text)"
   ]
  },
  {
   "cell_type": "markdown",
   "id": "51406c82-8364-4a4a-9d48-e18fa0513584",
   "metadata": {},
   "source": [
    "## 43. Decode a Caesar cipher encoded string."
   ]
  },
  {
   "cell_type": "code",
   "execution_count": 1,
   "id": "b81c8a89-0d3e-470e-ad8d-3cb8b16837dc",
   "metadata": {},
   "outputs": [
    {
     "name": "stdout",
     "output_type": "stream",
     "text": [
      "Decoded text: bello, world!\n"
     ]
    }
   ],
   "source": [
    "def caesar_cipher_decoder(text, shift):\n",
    "    \"\"\"\n",
    "    Decodes a string using a Caesar cipher.\n",
    "\n",
    "    Args:\n",
    "        text: The string to decode.\n",
    "        shift: The number of positions to shift each letter.\n",
    "\n",
    "    Returns:\n",
    "        The decoded string.\n",
    "    \"\"\"\n",
    "    decoded_text = \"\"\n",
    "\n",
    "    for char in text:\n",
    "        if char.isalpha():\n",
    "            decoded_char = chr((ord(char) - shift - ord('a')) % 26 + ord('a'))\n",
    "        else:\n",
    "            decoded_char = char\n",
    "        decoded_text += decoded_char\n",
    "    return decoded_text\n",
    "text = \"Khoor, zruog!\"\n",
    "shift = 3\n",
    "decoded_text = caesar_cipher_decoder(text, shift)\n",
    "print(\"Decoded text:\", decoded_text)"
   ]
  },
  {
   "cell_type": "markdown",
   "id": "2fe555d5-f7a7-4577-a4fc-dfa289f44590",
   "metadata": {},
   "source": [
    "## 44. Find the most frequent word in a string."
   ]
  },
  {
   "cell_type": "code",
   "execution_count": 41,
   "id": "f1d88f4e-a4f8-4770-abba-8dcbf6cbdee9",
   "metadata": {},
   "outputs": [
    {
     "name": "stdout",
     "output_type": "stream",
     "text": [
      "Most frequent word: hello\n"
     ]
    }
   ],
   "source": [
    "import re\n",
    "from collections import Counter\n",
    "\n",
    "def most_frequent_word(input_string):\n",
    "    clean_string = re.sub(r'[^\\w\\s]', '', input_string).lower()\n",
    "    words = clean_string.split()\n",
    "    word_counter = Counter(words)\n",
    "    most_common_word = word_counter.most_common(1)[0][0]\n",
    "    return most_common_word\n",
    "input_str = \"Hello world, hello there! How's the world?\"\n",
    "most_common = most_frequent_word(input_str)\n",
    "print(\"Most frequent word:\", most_common)"
   ]
  },
  {
   "cell_type": "markdown",
   "id": "45b086ae-187d-44df-836f-16750c961f96",
   "metadata": {},
   "source": [
    "## 45. Find all unique words in a string."
   ]
  },
  {
   "cell_type": "code",
   "execution_count": 42,
   "id": "aab86e66-943d-4f8b-a3d6-369e4c0b5262",
   "metadata": {},
   "outputs": [
    {
     "name": "stdout",
     "output_type": "stream",
     "text": [
      "Unique words: {'there', 'world', 'hows', 'hello', 'the'}\n"
     ]
    }
   ],
   "source": [
    "import re\n",
    "\n",
    "def unique_words(input_string):\n",
    "    clean_string = re.sub(r'[^\\w\\s]', '', input_string).lower()\n",
    "    words = set(clean_string.split())\n",
    "    return words\n",
    "input_str = \"Hello world, hello there! How's the world?\"\n",
    "unique_word_set = unique_words(input_str)\n",
    "print(\"Unique words:\", unique_word_set)"
   ]
  },
  {
   "cell_type": "markdown",
   "id": "ac80ebc6-c3f9-4a43-9394-ab161c133e35",
   "metadata": {},
   "source": [
    "## 46. Count the number of syllables in a string."
   ]
  },
  {
   "cell_type": "code",
   "execution_count": 44,
   "id": "9e37127b-9187-45e7-a387-69c9796723e9",
   "metadata": {},
   "outputs": [
    {
     "name": "stdout",
     "output_type": "stream",
     "text": [
      "'hello' has 2 syllables.\n",
      "'banana' has 3 syllables.\n",
      "'syllable' has 2 syllables.\n"
     ]
    }
   ],
   "source": [
    "import re\n",
    "\n",
    "def count_syllables(word):\n",
    "    vowel_groups = re.findall(r'[aeiou]+', word, re.IGNORECASE)\n",
    "    return len(vowel_groups)\n",
    "word1 = \"hello\"\n",
    "word2 = \"banana\"\n",
    "word3 = \"syllable\"\n",
    "syllables1 = count_syllables(word1)\n",
    "syllables2 = count_syllables(word2)\n",
    "syllables3 = count_syllables(word3)\n",
    "print(f\"'{word1}' has {syllables1} syllables.\")\n",
    "print(f\"'{word2}' has {syllables2} syllables.\")\n",
    "print(f\"'{word3}' has {syllables3} syllables.\")"
   ]
  },
  {
   "cell_type": "markdown",
   "id": "a7371eb2-bde2-42d6-9811-d7ea397a6b7e",
   "metadata": {},
   "source": [
    "## 47. Check if a string contains any special characters."
   ]
  },
  {
   "cell_type": "code",
   "execution_count": 47,
   "id": "1f25ccf8-0339-48d1-a086-fd5c2714f34e",
   "metadata": {},
   "outputs": [
    {
     "name": "stdout",
     "output_type": "stream",
     "text": [
      "'Hello, world!' contains special characters: True\n",
      "'This is a test.' contains special characters: True\n",
      "'Special@Characters' contains special characters: True\n"
     ]
    }
   ],
   "source": [
    "import re\n",
    "\n",
    "def contains_special_characters(input_string):\n",
    "    pattern = re.compile(r'[!@#$%^&*()_+{}\\[\\]:;<>,.?~\\\\/]')\n",
    "    match = pattern.search(input_string)\n",
    "    return bool(match)\n",
    "\n",
    "string1 = \"Hello, world!\"\n",
    "string2 = \"This is a test.\"\n",
    "string3 = \"Special@Characters\"\n",
    "\n",
    "result1 = contains_special_characters(string1)\n",
    "result2 = contains_special_characters(string2)\n",
    "result3 = contains_special_characters(string3)\n",
    "\n",
    "print(f\"'{string1}' contains special characters:\", result1)\n",
    "print(f\"'{string2}' contains special characters:\", result2)\n",
    "print(f\"'{string3}' contains special characters:\", result3)"
   ]
  },
  {
   "cell_type": "markdown",
   "id": "41e83763-292f-40c1-be19-fe9a3fc5ddfe",
   "metadata": {},
   "source": [
    "## 48. Remove the nth word from a string."
   ]
  },
  {
   "cell_type": "code",
   "execution_count": 49,
   "id": "07c304a8-3fa8-4c5b-84fd-cc7dbe79c172",
   "metadata": {},
   "outputs": [
    {
     "name": "stdout",
     "output_type": "stream",
     "text": [
      "Original string: This is an example sentence to test the function.\n",
      "Modified string: This is an example to test the function.\n",
      "Removed word: sentence\n"
     ]
    }
   ],
   "source": [
    "def remove_nth_word(input_string, n):\n",
    "    words = input_string.split()\n",
    "    if n >= 1 and n <= len(words):\n",
    "        removed_word = words.pop(n - 1)\n",
    "        modified_string = ' '.join(words)\n",
    "\n",
    "        return modified_string, removed_word\n",
    "    else:\n",
    "        return None, None\n",
    "input_str = \"This is an example sentence to test the function.\"\n",
    "n_value = 5\n",
    "\n",
    "modified_str, removed_word = remove_nth_word(input_str, n_value)\n",
    "print(\"Original string:\", input_str)\n",
    "if modified_str is not None:\n",
    "    print(\"Modified string:\", modified_str)\n",
    "    print(\"Removed word:\", removed_word)\n",
    "else:\n",
    "    print(\"Invalid n value.\")"
   ]
  },
  {
   "cell_type": "markdown",
   "id": "6f5af7aa-f69e-4688-8e4a-1367e03efdb9",
   "metadata": {},
   "source": [
    "## 49. Insert a word at the nth position in a string."
   ]
  },
  {
   "cell_type": "code",
   "execution_count": 53,
   "id": "d99793ac-b6c7-49c2-b6be-c0675b1fd75c",
   "metadata": {},
   "outputs": [
    {
     "name": "stdout",
     "output_type": "stream",
     "text": [
      "Original string: This is an example sentence to test the function.\n",
      "Invalid n value.\n"
     ]
    }
   ],
   "source": [
    "def insert_nth_word(input_string, n):\n",
    "    words = input_string.split()\n",
    "    if n <= 1 and n >= len(words):\n",
    "        insert_word = words.pop(n + 1)\n",
    "        modified_string = ' '.join(words)\n",
    "\n",
    "        return modified_string, insert_word\n",
    "    else:\n",
    "        return None, None\n",
    "input_str = \"This is an example sentence to test the function.\"\n",
    "n_value = 5\n",
    "\n",
    "modified_str, insert_word = insert_nth_word(input_str, n_value)\n",
    "print(\"Original string:\", input_str)\n",
    "if modified_str is not None:\n",
    "    print(\"Modified string:\", modified_str)\n",
    "    print(\"insert word:\", inserted_word)\n",
    "else:\n",
    "    print(\"Invalid n value.\")"
   ]
  },
  {
   "cell_type": "markdown",
   "id": "f0bf5895-b8dd-4ffc-aaf9-43f43b0e4d1f",
   "metadata": {},
   "source": [
    "## 50. Convert a CSV string to a list of lists."
   ]
  },
  {
   "cell_type": "code",
   "execution_count": 52,
   "id": "021805d2-ceb7-44ed-b5be-3d63c406ec10",
   "metadata": {},
   "outputs": [
    {
     "name": "stdout",
     "output_type": "stream",
     "text": [
      "['Name', ' Age', ' Country']\n",
      "['Sai', ' 28', ' india']\n",
      "['Mani', ' 23', ' USA']\n",
      "['Srinu', ' 48', ' UK']\n"
     ]
    }
   ],
   "source": [
    "def csv_string_to_list(csv_string):\n",
    "    lines = csv_string.split('\\n')\n",
    "    result = []\n",
    "\n",
    "    for line in lines:\n",
    "        fields = line.split(',')\n",
    "\n",
    "        result.append(fields)\n",
    "\n",
    "    return result\n",
    "csv_data = \"Name, Age, Country\\nSai, 28, india\\nMani, 23, USA\\nSrinu, 48, UK\"\n",
    "list_of_lists = csv_string_to_list(csv_data)\n",
    "\n",
    "for row in list_of_lists:\n",
    "    print(row)"
   ]
  },
  {
   "cell_type": "markdown",
   "id": "955011cb-078d-435e-9fd1-1b172952dc24",
   "metadata": {},
   "source": [
    "# List Based Practice Problem :"
   ]
  },
  {
   "cell_type": "markdown",
   "id": "cc7d9dea-ceb3-495b-a2eb-b7199229a0d2",
   "metadata": {},
   "source": [
    "## 1. Create a list with integers from 1 to 10."
   ]
  },
  {
   "cell_type": "code",
   "execution_count": 4,
   "id": "b6604ab6-52c5-4b97-bc90-ec621bb5c60f",
   "metadata": {},
   "outputs": [
    {
     "name": "stdout",
     "output_type": "stream",
     "text": [
      "[1, 2, 3, 4, 5, 6, 7, 8, 9, 10]\n"
     ]
    }
   ],
   "source": [
    "list = [i for i in range(1, 11)]\n",
    "print(list)"
   ]
  },
  {
   "cell_type": "markdown",
   "id": "3edbf327-582a-4569-b553-69de144902f2",
   "metadata": {},
   "source": [
    "## 2. Find the length of a list without using the `len()` function."
   ]
  },
  {
   "cell_type": "code",
   "execution_count": 6,
   "id": "575ec45c-d064-4eac-b223-55bce8a4f219",
   "metadata": {},
   "outputs": [
    {
     "name": "stdout",
     "output_type": "stream",
     "text": [
      "Length of the list: 8\n"
     ]
    }
   ],
   "source": [
    "def custom_len(input_list):\n",
    "    count = 0\n",
    "    for _ in input_list:\n",
    "        count += 1\n",
    "    return count\n",
    "my_list = [10, 20, 30, 40, 50,60,70,80]\n",
    "length = custom_len(my_list)\n",
    "print(\"Length of the list:\", length)"
   ]
  },
  {
   "cell_type": "markdown",
   "id": "50757a1d-d84b-4362-be6d-9d93ff43c7fb",
   "metadata": {},
   "source": [
    "## 3. Append an element to the end of a list."
   ]
  },
  {
   "cell_type": "code",
   "execution_count": 9,
   "id": "02b6ec51-2780-4c3e-8e2a-486e3e6c1659",
   "metadata": {},
   "outputs": [
    {
     "name": "stdout",
     "output_type": "stream",
     "text": [
      "[1, 2, 3, 4, 5, 6]\n"
     ]
    }
   ],
   "source": [
    "list = [1,2,3,4,5]\n",
    "list.append(6)\n",
    "print(list)"
   ]
  },
  {
   "cell_type": "markdown",
   "id": "004a3d7d-519c-46de-9213-f2e0b1258dee",
   "metadata": {},
   "source": [
    "## 4. Insert an element at a specific index in a list."
   ]
  },
  {
   "cell_type": "code",
   "execution_count": 12,
   "id": "1c30a40a-a53b-450a-afe9-3cbe6ae3cad9",
   "metadata": {},
   "outputs": [
    {
     "name": "stdout",
     "output_type": "stream",
     "text": [
      "[10, 20, 25, 30, 40, 50]\n"
     ]
    }
   ],
   "source": [
    "my_list = [10, 20, 30, 40, 50]\n",
    "my_list.insert(2,25)\n",
    "print(my_list)"
   ]
  },
  {
   "cell_type": "markdown",
   "id": "570b690e-a43f-4470-8b86-400271a837cc",
   "metadata": {},
   "source": [
    "## 5. Remove an element from a list by its value."
   ]
  },
  {
   "cell_type": "code",
   "execution_count": 18,
   "id": "91c9def3-96da-40a6-8ba8-b71db911d5f2",
   "metadata": {},
   "outputs": [
    {
     "name": "stdout",
     "output_type": "stream",
     "text": [
      "[1, 2, 5, 4, 7, 88, 25]\n"
     ]
    }
   ],
   "source": [
    "list =[1,2,5,4,7,88,77,25,]\n",
    "list.remove(77)\n",
    "print(list)"
   ]
  },
  {
   "cell_type": "markdown",
   "id": "d5449279-fb3e-4c3f-82bf-c29e8daaf6e2",
   "metadata": {},
   "source": [
    "## 6. Remove an element from a list by its index."
   ]
  },
  {
   "cell_type": "code",
   "execution_count": 26,
   "id": "a9348832-230c-4541-afd1-160969843076",
   "metadata": {},
   "outputs": [
    {
     "name": "stdout",
     "output_type": "stream",
     "text": [
      "Updated list: [10, 20, 30, 40, 50, 70, 80]\n",
      "Removed element: 60\n"
     ]
    }
   ],
   "source": [
    "my_list = [10,20,30,40,50,60,70,80]\n",
    "index_to_remove = 5\n",
    "removed_element = my_list.pop(index_to_remove)\n",
    "print(\"Updated list:\", my_list)\n",
    "print(\"Removed element:\", removed_element)"
   ]
  },
  {
   "cell_type": "markdown",
   "id": "a5e70449-e341-467f-b308-4998b1511bf7",
   "metadata": {},
   "source": [
    "## 7. Check if an element exists in a list."
   ]
  },
  {
   "cell_type": "code",
   "execution_count": 31,
   "id": "b66a7d18-b7a4-4c6f-a473-7c15631610c8",
   "metadata": {},
   "outputs": [
    {
     "name": "stdout",
     "output_type": "stream",
     "text": [
      "50 exists in the list.\n"
     ]
    }
   ],
   "source": [
    "my_list = [10, 20, 30, 40, 50]\n",
    "element_to_check = 50\n",
    "if element_to_check in my_list:\n",
    "    print(f\"{element_to_check} exists in the list.\")\n",
    "else:\n",
    "    print(f\"{element_to_check} does not exist in the list.\")"
   ]
  },
  {
   "cell_type": "markdown",
   "id": "43c441a2-5b6a-48ea-b413-ea78512bff39",
   "metadata": {},
   "source": [
    "## 8. Find the index of the first occurrence of an element in a list."
   ]
  },
  {
   "cell_type": "code",
   "execution_count": 34,
   "id": "980ef033-fe62-4791-a1ad-f9e986ea4847",
   "metadata": {},
   "outputs": [
    {
     "name": "stdout",
     "output_type": "stream",
     "text": [
      "The index of 70 is 7\n"
     ]
    }
   ],
   "source": [
    "my_list = [10, 20, 30, 40,20,50,60,70,50, 30]\n",
    "element_to_find = 70\n",
    "index = my_list.index(element_to_find)\n",
    "print(f\"The index of {element_to_find} is {index}\")"
   ]
  },
  {
   "cell_type": "markdown",
   "id": "0f393c7f-9689-4056-88b7-1ad2c52e560d",
   "metadata": {},
   "source": [
    "## 9. Count the occurrences of an element in a list."
   ]
  },
  {
   "cell_type": "code",
   "execution_count": 35,
   "id": "98efca8c-e5b8-4e9f-bedb-e78abb48ffad",
   "metadata": {},
   "outputs": [
    {
     "name": "stdout",
     "output_type": "stream",
     "text": [
      "The element 50 occurs 2 times in the list.\n"
     ]
    }
   ],
   "source": [
    "my_list = [10, 20, 30, 40,20,50,60,70,50, 30]\n",
    "element_to_count = 50\n",
    "count = my_list.count(element_to_count)\n",
    "print(f\"The element {element_to_count} occurs {count} times in the list.\")"
   ]
  },
  {
   "cell_type": "markdown",
   "id": "4d7e565f-24e7-477a-91e0-aa1c56c07f66",
   "metadata": {},
   "source": [
    "## 10. Reverse the order of elements in a list."
   ]
  },
  {
   "cell_type": "code",
   "execution_count": 36,
   "id": "6dd7d466-95c4-4cfd-a19d-8353158ae96d",
   "metadata": {},
   "outputs": [
    {
     "name": "stdout",
     "output_type": "stream",
     "text": [
      "[30, 50, 70, 60, 50, 20, 40, 30, 20, 10]\n"
     ]
    }
   ],
   "source": [
    "my_list = [10, 20, 30, 40,20,50,60,70,50, 30]\n",
    "my_list.reverse()\n",
    "print(my_list)"
   ]
  },
  {
   "cell_type": "markdown",
   "id": "9f43bf46-b2e4-4793-80e4-96b4efa608f0",
   "metadata": {},
   "source": [
    "## 11. Sort a list in ascending order."
   ]
  },
  {
   "cell_type": "code",
   "execution_count": 38,
   "id": "36648b97-9dff-4804-9650-2bb83ee2457c",
   "metadata": {},
   "outputs": [
    {
     "name": "stdout",
     "output_type": "stream",
     "text": [
      "sorted list in ascending order: [10, 20, 20, 30, 30, 40, 50, 50, 60, 70]\n"
     ]
    }
   ],
   "source": [
    "my_list = [10, 20, 30, 40,20,50,60,70,50, 30]\n",
    "my_list.sort()\n",
    "print(\"sorted list in ascending order:\",my_list)"
   ]
  },
  {
   "cell_type": "markdown",
   "id": "e418b825-2c67-4595-a1c9-d56fe3ec8544",
   "metadata": {},
   "source": [
    "## 12. Sort a list in descending order."
   ]
  },
  {
   "cell_type": "code",
   "execution_count": 40,
   "id": "0b17020b-2d09-4ed2-aa1f-e532711a72c4",
   "metadata": {},
   "outputs": [
    {
     "name": "stdout",
     "output_type": "stream",
     "text": [
      "sorted list in descending order: [70, 60, 50, 50, 40, 30, 30, 20, 20, 10]\n"
     ]
    }
   ],
   "source": [
    "my_list = [10, 20, 30, 40,20,50,60,70,50, 30]\n",
    "my_list.sort(reverse=True)\n",
    "print(\"sorted list in descending order:\",my_list)"
   ]
  },
  {
   "cell_type": "markdown",
   "id": "e57b2fe4-d2c9-4be4-a985-8198880b4489",
   "metadata": {},
   "source": [
    "## 13. Create a list of even numbers from 1 to 20."
   ]
  },
  {
   "cell_type": "code",
   "execution_count": 46,
   "id": "172539ae-312b-4867-be38-3854787caaf2",
   "metadata": {},
   "outputs": [
    {
     "name": "stdout",
     "output_type": "stream",
     "text": [
      "List of even numbers: [2, 4, 6, 8, 10, 12, 14, 16, 18, 20]\n"
     ]
    }
   ],
   "source": [
    "even_numbers = [x for x in range(2, 21, 2)]\n",
    "print(\"List of even numbers:\", even_numbers)"
   ]
  },
  {
   "cell_type": "markdown",
   "id": "7fccd16c-97b0-4851-8c34-1cc55fc0a331",
   "metadata": {},
   "source": [
    "## 14. Create a list of odd numbers from 1 to 20."
   ]
  },
  {
   "cell_type": "code",
   "execution_count": 47,
   "id": "66e2a355-0fb8-423c-8516-4c22b9c6fe5c",
   "metadata": {},
   "outputs": [
    {
     "name": "stdout",
     "output_type": "stream",
     "text": [
      "list of odd numbers: [1, 3, 5, 7, 9, 11, 13, 15, 17, 19]\n"
     ]
    }
   ],
   "source": [
    "odd_numbers = [x for x in range(1,21,2)]\n",
    "print(\"list of odd numbers:\",odd_numbers)"
   ]
  },
  {
   "cell_type": "markdown",
   "id": "476584a4-ac26-4756-9491-a5c38964843b",
   "metadata": {},
   "source": [
    "## 15. Find the sum of all elements in a list."
   ]
  },
  {
   "cell_type": "code",
   "execution_count": 48,
   "id": "e71e31b2-1125-4cb3-a541-2ffff3500dea",
   "metadata": {},
   "outputs": [
    {
     "name": "stdout",
     "output_type": "stream",
     "text": [
      "Sum of elements: 150\n"
     ]
    }
   ],
   "source": [
    "my_list = [10, 20, 30, 40, 50]\n",
    "total_sum = sum(my_list)\n",
    "print(\"Sum of elements:\", total_sum)"
   ]
  },
  {
   "cell_type": "markdown",
   "id": "b78059f5-8e1b-4c82-bc73-4410e9bab55e",
   "metadata": {},
   "source": [
    "## 16. Find the maximum value in a list."
   ]
  },
  {
   "cell_type": "code",
   "execution_count": 49,
   "id": "f34ba864-7d08-489b-8c84-adf8a8552dd1",
   "metadata": {},
   "outputs": [
    {
     "name": "stdout",
     "output_type": "stream",
     "text": [
      "Maximum value: 70\n"
     ]
    }
   ],
   "source": [
    "my_list = [10, 20, 30, 40,20,50,60,70,50, 30]\n",
    "max_value = max(my_list)\n",
    "print(\"Maximum value:\", max_value)"
   ]
  },
  {
   "cell_type": "markdown",
   "id": "ecd96df6-8d5d-46c2-b96e-efc372af0a3c",
   "metadata": {},
   "source": [
    "## 17. Find the minimum value in a list."
   ]
  },
  {
   "cell_type": "code",
   "execution_count": 50,
   "id": "afd2316e-f606-4090-8988-c7aa80b257f8",
   "metadata": {},
   "outputs": [
    {
     "name": "stdout",
     "output_type": "stream",
     "text": [
      "Minimum value: 10\n"
     ]
    }
   ],
   "source": [
    "my_list = [10, 20, 30, 40,20,50,60,70,50, 30]\n",
    "mix_value = min(my_list)\n",
    "print(\"Minimum value:\", mix_value)"
   ]
  },
  {
   "cell_type": "markdown",
   "id": "ada9e909-ae40-4bcc-9147-619f66bc9ba2",
   "metadata": {},
   "source": [
    "## 18. Create a list of squares of numbers from 1 to 10."
   ]
  },
  {
   "cell_type": "code",
   "execution_count": 55,
   "id": "559d490a-aac5-48a0-99b4-fcb7a2a064f4",
   "metadata": {},
   "outputs": [
    {
     "name": "stdout",
     "output_type": "stream",
     "text": [
      "List of squares: [1, 4, 9, 16, 25, 36, 49, 64, 81, 100]\n"
     ]
    }
   ],
   "source": [
    "squares = [x ** 2for x in range(1, 11)] \n",
    "print(\"List of squares:\", squares)\n"
   ]
  },
  {
   "cell_type": "markdown",
   "id": "93bc2a2e-368a-4a36-ba09-ac4c49bc639e",
   "metadata": {},
   "source": [
    "## 19. Create a list of random numbers."
   ]
  },
  {
   "cell_type": "code",
   "execution_count": 59,
   "id": "3a8666ab-02dc-43df-b579-cb03159d476a",
   "metadata": {},
   "outputs": [
    {
     "name": "stdout",
     "output_type": "stream",
     "text": [
      "List of random integers: [26, 14, 24, 43, 43]\n"
     ]
    }
   ],
   "source": [
    "import random\n",
    "random_integers = [random.randint(1, 50) for _ in range(5)]\n",
    "print(\"List of random integers:\", random_integers)"
   ]
  },
  {
   "cell_type": "markdown",
   "id": "75f314f6-cd77-4a80-97da-8f674d31c96f",
   "metadata": {},
   "source": [
    "## 20. Remove duplicates from a list."
   ]
  },
  {
   "cell_type": "code",
   "execution_count": 71,
   "id": "e2bfbbb6-5a01-4421-9b48-b11376f71921",
   "metadata": {},
   "outputs": [
    {
     "name": "stdout",
     "output_type": "stream",
     "text": [
      "{40, 10, 50, 20, 30}\n"
     ]
    }
   ],
   "source": [
    "my_list = [10, 20, 30, 20, 40, 10, 50, 30]\n",
    "dup_item=set()\n",
    "uniq_item=[]\n",
    "for x in my_list:\n",
    "    if x not in dup_item:\n",
    "        uniq_item.append(x)\n",
    "        dup_item.add(x)\n",
    "print(dup_item)"
   ]
  },
  {
   "cell_type": "markdown",
   "id": "eb2f2833-5cf1-4176-9d0c-24ccec524688",
   "metadata": {},
   "source": [
    "## 21. Find the common elements between two lists."
   ]
  },
  {
   "cell_type": "code",
   "execution_count": 78,
   "id": "77d0250f-ebd6-4eed-b859-9560d72e83b8",
   "metadata": {},
   "outputs": [
    {
     "name": "stdout",
     "output_type": "stream",
     "text": [
      "common_element in list1: [30, 40, 50, 60, 70]\n",
      "common_element in list2: [30, 40, 50, 60, 70]\n"
     ]
    }
   ],
   "source": [
    "list1 = [10, 20, 30, 40, 50]\n",
    "list2 = [30, 40, 50, 60, 70]\n",
    "common_element = list1 and list2\n",
    "print(\"common_element in list1:\",common_element)\n",
    "print(\"common_element in list2:\",common_element)"
   ]
  },
  {
   "cell_type": "markdown",
   "id": "4f96f066-e18d-4d3b-823d-bc6b87bcb88c",
   "metadata": {},
   "source": [
    "## 22. Find the difference between two lists."
   ]
  },
  {
   "cell_type": "code",
   "execution_count": 57,
   "id": "c1fe6d98-3cda-45fb-891a-b46b60ddc18f",
   "metadata": {},
   "outputs": [
    {
     "name": "stdout",
     "output_type": "stream",
     "text": [
      "Difference between lists: [20, 10]\n"
     ]
    }
   ],
   "source": [
    "list1 = [10, 20, 30, 40, 50]\n",
    "list2 = [30, 40, 50, 60, 70]\n",
    "difference = list(set(list1).difference(list2))\n",
    "print(\"Difference between lists:\", difference)"
   ]
  },
  {
   "cell_type": "markdown",
   "id": "3accacd1-e1e8-4e75-b5c3-b967e9a2788d",
   "metadata": {},
   "source": [
    "## 23. Merge two lists."
   ]
  },
  {
   "cell_type": "code",
   "execution_count": 88,
   "id": "31ddc119-ee85-40bf-89fa-7130cbd4cdc0",
   "metadata": {},
   "outputs": [
    {
     "name": "stdout",
     "output_type": "stream",
     "text": [
      "Merged list: [10, 20, 30, 40, 50, 60]\n"
     ]
    }
   ],
   "source": [
    "list1 = [10, 20, 30]\n",
    "list2 = [40, 50, 60]\n",
    "merged_list = list1 + list2\n",
    "print(\"Merged list:\", merged_list)"
   ]
  },
  {
   "cell_type": "markdown",
   "id": "da47e569-e77d-44b3-bb4a-8fe307626437",
   "metadata": {},
   "source": [
    "## 24. Multiply all elements in a list by 2."
   ]
  },
  {
   "cell_type": "code",
   "execution_count": 89,
   "id": "d2cc90ee-d966-4214-a9ce-a5e78bee2f2b",
   "metadata": {},
   "outputs": [
    {
     "name": "stdout",
     "output_type": "stream",
     "text": [
      "Multiplied list: [20, 40, 60, 80, 100]\n"
     ]
    }
   ],
   "source": [
    "my_list = [10, 20, 30, 40, 50]\n",
    "multiplied_list = [x * 2 for x in my_list]\n",
    "print(\"Multiplied list:\", multiplied_list)"
   ]
  },
  {
   "cell_type": "markdown",
   "id": "ded8fde0-e361-48ef-808b-34632a62b5a4",
   "metadata": {},
   "source": [
    "## 25. Filter out all even numbers from a list."
   ]
  },
  {
   "cell_type": "code",
   "execution_count": 56,
   "id": "6fc69b0d-3653-45a1-875a-11808c2d0e24",
   "metadata": {},
   "outputs": [
    {
     "name": "stdout",
     "output_type": "stream",
     "text": [
      "Filtered list: [2, 4, 6, 8, 10]\n"
     ]
    }
   ],
   "source": [
    "original_list = [1, 2, 3, 4, 5, 6, 7, 8, 9, 10]\n",
    "\n",
    "filtered_list = list(num for num in original_list if num % 2 == 0)\n",
    "\n",
    "print(\"Filtered list:\", filtered_list)"
   ]
  },
  {
   "cell_type": "markdown",
   "id": "07191f3e-b8c5-4887-804c-a21c8fae6837",
   "metadata": {},
   "source": [
    "## 26. Convert a list of strings to a list of integers."
   ]
  },
  {
   "cell_type": "code",
   "execution_count": 90,
   "id": "d73c0ad6-90fa-4d54-95f2-4eec2e857c6e",
   "metadata": {},
   "outputs": [
    {
     "name": "stdout",
     "output_type": "stream",
     "text": [
      "List of integers: [10, 20, 30, 40, 50]\n"
     ]
    }
   ],
   "source": [
    "string_list = [\"10\", \"20\", \"30\", \"40\", \"50\"]\n",
    "integer_list = [int(x) for x in string_list]\n",
    "print(\"List of integers:\", integer_list)"
   ]
  },
  {
   "cell_type": "markdown",
   "id": "e82a27b2-7c26-4623-a033-585a49887564",
   "metadata": {},
   "source": [
    "## 27. Convert a list of integers to a list of strings."
   ]
  },
  {
   "cell_type": "code",
   "execution_count": 91,
   "id": "1bd952ef-6031-40b3-8147-00f023878e16",
   "metadata": {},
   "outputs": [
    {
     "name": "stdout",
     "output_type": "stream",
     "text": [
      "List of strings: ['10', '20', '30', '40', '50']\n"
     ]
    }
   ],
   "source": [
    "integer_list = [10, 20, 30, 40, 50]\n",
    "string_list = [str(x) for x in integer_list]\n",
    "print(\"List of strings:\", string_list)"
   ]
  },
  {
   "cell_type": "markdown",
   "id": "d8d7d64f-da49-45b4-8cbb-082a64e35658",
   "metadata": {},
   "source": [
    "## 28. Flatten a nested list."
   ]
  },
  {
   "cell_type": "code",
   "execution_count": 53,
   "id": "d54bfb3e-6e69-4676-99cd-6f97187857d5",
   "metadata": {},
   "outputs": [
    {
     "name": "stdout",
     "output_type": "stream",
     "text": [
      "Flattened list: [1, 2, 3, 4, 5, 6, 7, 8, 9]\n"
     ]
    }
   ],
   "source": [
    "nested_list = [[1, 2, 3], [4, 5], [6, 7, 8, 9]]\n",
    "def flatten_list(nested):\n",
    "    flattened = []\n",
    "    for sublist in nested:\n",
    "        if isinstance(sublist, list):\n",
    "            flattened.extend(flatten_list(sublist))\n",
    "        else:\n",
    "            flattened.append(sublist)\n",
    "    return flattened\n",
    "flattened_list = flatten_list(nested_list)\n",
    "print(\"Flattened list:\", flattened_list)"
   ]
  },
  {
   "cell_type": "markdown",
   "id": "7b17316a-bd72-422a-a2d4-28cba4bd8d06",
   "metadata": {},
   "source": [
    "## 29. Create a list of the first 10 Fibonacci numbers."
   ]
  },
  {
   "cell_type": "code",
   "execution_count": 93,
   "id": "fb3e5e51-0977-4294-8c6c-4ac5660d8430",
   "metadata": {},
   "outputs": [
    {
     "name": "stdout",
     "output_type": "stream",
     "text": [
      "First 10 Fibonacci numbers: [0, 1]\n"
     ]
    }
   ],
   "source": [
    "def generate_fibonacci(n):\n",
    "    fibonacci_list = [0, 1]  # Initialize the list with the first two Fibonacci numbers\n",
    "\n",
    "    for i in range(2, n):\n",
    "        next_fibonacci = fibonacci_list[i - 1] + fibonacci_list[i - 2]\n",
    "        fibonacci_list.append(next_fibonacci)\n",
    "\n",
    "    return fibonacci_list\n",
    "\n",
    "# Generate the first 10 Fibonacci numbers\n",
    "fibonacci_numbers = generate_fibonacci(2)\n",
    "\n",
    "# Print the list of Fibonacci numbers\n",
    "print(\"First 10 Fibonacci numbers:\", fibonacci_numbers)"
   ]
  },
  {
   "cell_type": "markdown",
   "id": "58b20545-3e0a-44ad-951a-f862a289680f",
   "metadata": {},
   "source": [
    "## 30. Check if a list is sorted."
   ]
  },
  {
   "cell_type": "code",
   "execution_count": 1,
   "id": "219efc61-0aec-448d-9fe8-de200adb70bf",
   "metadata": {},
   "outputs": [
    {
     "name": "stdout",
     "output_type": "stream",
     "text": [
      "The list is sorted in ascending order.\n"
     ]
    }
   ],
   "source": [
    "def is_sorted_ascending(lst):\n",
    "    for i in range(1, len(lst)):\n",
    "        if lst[i] < lst[i - 1]:\n",
    "            return False\n",
    "    return True\n",
    "ascending_list = [10, 20, 30, 40, 50]\n",
    "if is_sorted_ascending(ascending_list):\n",
    "    print(\"The list is sorted in ascending order.\")\n",
    "else:\n",
    "    print(\"The list is not sorted in ascending order.\")"
   ]
  },
  {
   "cell_type": "markdown",
   "id": "e7f249a6-69cd-4e73-968f-1609b86ff56b",
   "metadata": {},
   "source": [
    "## 31. Rotate a list to the left by `n` positions."
   ]
  },
  {
   "cell_type": "code",
   "execution_count": 4,
   "id": "5301afc3-c0f0-4dce-b00e-ac5657a89dd9",
   "metadata": {},
   "outputs": [
    {
     "name": "stdout",
     "output_type": "stream",
     "text": [
      "Rotated list: [3, 4, 5, 6, 1, 2]\n"
     ]
    }
   ],
   "source": [
    "def rotate_left(lst, n):\n",
    "    n = n % len(lst)  \n",
    "    rotated = lst[n:] + lst[:n]\n",
    "    return rotated\n",
    "my_list = [1, 2, 3, 4, 5, 6]\n",
    "n = 2\n",
    "rotated_list = rotate_left(my_list, n)\n",
    "print(\"Rotated list:\", rotated_list)"
   ]
  },
  {
   "cell_type": "markdown",
   "id": "7c9b4b3a-0dbf-44da-8943-289dad86b461",
   "metadata": {},
   "source": [
    "## 32. Rotate a list to the right by `n` positions."
   ]
  },
  {
   "cell_type": "code",
   "execution_count": 5,
   "id": "690165ac-327f-4055-ab2f-efc4c5caf7df",
   "metadata": {},
   "outputs": [
    {
     "name": "stdout",
     "output_type": "stream",
     "text": [
      "Rotated list: [4, 5, 6, 7, 1, 2, 3]\n"
     ]
    }
   ],
   "source": [
    "def rotate_right(lst,n):\n",
    "    n = n % len(lst)\n",
    "    rotated = lst[-n:] + lst[:-n]\n",
    "    return rotated\n",
    "my_list = [1, 2, 3, 4, 5, 6, 7]\n",
    "n = 4\n",
    "rotated_list = rotate_right(my_list,n)\n",
    "print(\"Rotated list:\",rotated_list)\n",
    "    "
   ]
  },
  {
   "cell_type": "markdown",
   "id": "ee8dec74-2abc-42dd-b249-78476341d9e5",
   "metadata": {},
   "source": [
    "## 33. Create a list of prime numbers up to 50."
   ]
  },
  {
   "cell_type": "code",
   "execution_count": 11,
   "id": "cadb8bd3-a64d-4a82-b771-f2ae449e4607",
   "metadata": {},
   "outputs": [
    {
     "name": "stdout",
     "output_type": "stream",
     "text": [
      "5 25\n",
      "5 29\n",
      "List of prime numbers up to 50: [2, 3, 5, 7, 11, 13, 17, 19, 23, 29]\n"
     ]
    }
   ],
   "source": [
    "def is_prime(num):\n",
    "    if num <= 1:\n",
    "        return False\n",
    "    if num <= 3:\n",
    "        return True\n",
    "    if num % 2 == 0 or num % 3 == 0:\n",
    "        return False\n",
    "    i = 5\n",
    "    while i * i <= num:\n",
    "      print(i,num)\n",
    "      if num % i == 0 or num % (i + 2) == 0:\n",
    "          return False\n",
    "      i += 6\n",
    "    return True\n",
    "prime_numbers = [num for num in range(2,30) if is_prime(num)]\n",
    "print(\"List of prime numbers up to 50:\", prime_numbers)"
   ]
  },
  {
   "cell_type": "markdown",
   "id": "fc46446e-2e89-47e6-8c76-0257f86830b5",
   "metadata": {},
   "source": [
    "## 34. Split a list into chunks of size `n`."
   ]
  },
  {
   "cell_type": "code",
   "execution_count": 52,
   "id": "2671a476-7421-4227-a01c-c67221de6ef6",
   "metadata": {},
   "outputs": [
    {
     "name": "stdout",
     "output_type": "stream",
     "text": [
      "List of prime numbers up to 50: [2, 3, 5, 7, 11, 13, 17, 19, 23, 29, 31, 37, 41, 43, 47]\n"
     ]
    }
   ],
   "source": [
    "def sieve_of_eratosthenes(limit):\n",
    "    primes = []\n",
    "    is_prime = [True] * (limit + 1)\n",
    "    is_prime[0] = is_prime[1] = False\n",
    "\n",
    "    for num in range(2, int(limit ** 0.5) + 1):\n",
    "        if is_prime[num]:\n",
    "            primes.append(num)\n",
    "            for multiple in range(num * num, limit + 1, num):\n",
    "                is_prime[multiple] = False\n",
    "\n",
    "    for num in range(int(limit ** 0.5) + 1, limit + 1):\n",
    "        if is_prime[num]:\n",
    "            primes.append(num)\n",
    "    return primes\n",
    "prime_numbers = sieve_of_eratosthenes(50)\n",
    "print(\"List of prime numbers up to 50:\", prime_numbers)"
   ]
  },
  {
   "cell_type": "markdown",
   "id": "de887bdd-3611-4c33-80b4-434245ceb994",
   "metadata": {},
   "source": [
    "## 35. Find the second largest number in a list."
   ]
  },
  {
   "cell_type": "code",
   "execution_count": 12,
   "id": "7bab9449-983b-4656-b16d-857c5a6b7a66",
   "metadata": {},
   "outputs": [
    {
     "name": "stdout",
     "output_type": "stream",
     "text": [
      "Second largest number: 25\n"
     ]
    }
   ],
   "source": [
    "my_list = [10, 5, 20, 15, 30, 25]\n",
    "sorted_list = sorted(set(my_list))\n",
    "if len(sorted_list) >= 2:\n",
    "    second_largest = sorted_list[-2]\n",
    "    print(\"Second largest number:\", second_largest)\n",
    "else:\n",
    "    print(\"The list does not contain enough elements.\")"
   ]
  },
  {
   "cell_type": "markdown",
   "id": "7a780b87-7152-4907-ba8a-fea5eedb9caa",
   "metadata": {},
   "source": [
    "## 36. Replace every element in a list with its square."
   ]
  },
  {
   "cell_type": "code",
   "execution_count": 14,
   "id": "c5faf94f-29c7-49e3-b16a-98e044df8a44",
   "metadata": {},
   "outputs": [
    {
     "name": "stdout",
     "output_type": "stream",
     "text": [
      "Squared list: [4, 16, 36, 64, 144, 196]\n"
     ]
    }
   ],
   "source": [
    "my_list = [2, 4, 6, 8, 12,14]\n",
    "squared_list = [x ** 2 for x in my_list]\n",
    "print(\"Squared list:\", squared_list)"
   ]
  },
  {
   "cell_type": "markdown",
   "id": "f4ab0c64-f04f-49d6-a061-2f5a68c26357",
   "metadata": {},
   "source": [
    "## 37. Convert a list to a dictionary where list elements become keys and their indices become values.\n"
   ]
  },
  {
   "cell_type": "code",
   "execution_count": 15,
   "id": "cd84fe65-586a-4fd7-9390-288b09409e2a",
   "metadata": {},
   "outputs": [
    {
     "name": "stdout",
     "output_type": "stream",
     "text": [
      "Converted dictionary: {'python': 0, 'dsa': 1, 'EDA': 2, 'datescience': 3}\n"
     ]
    }
   ],
   "source": [
    "my_list = ['python', 'dsa', 'EDA', 'datescience']\n",
    "my_dict = {element: index for index, element in enumerate(my_list)}\n",
    "print(\"Converted dictionary:\", my_dict)"
   ]
  },
  {
   "cell_type": "markdown",
   "id": "b929cb8c-7f8b-462a-8028-62d88c4b5560",
   "metadata": {},
   "source": [
    "## 38. Shuffle the elements of a list randomly."
   ]
  },
  {
   "cell_type": "code",
   "execution_count": 18,
   "id": "1523a8dd-2df3-4633-ade0-86f08b4b7484",
   "metadata": {},
   "outputs": [
    {
     "name": "stdout",
     "output_type": "stream",
     "text": [
      "Shuffled list: [8, 4, 1, 6, 5, 9, 3, 10, 7, 2]\n"
     ]
    }
   ],
   "source": [
    "import random\n",
    "my_list = [1, 2, 3, 4, 5, 6, 7, 8, 9, 10]\n",
    "random.shuffle(my_list)\n",
    "print(\"Shuffled list:\", my_list)"
   ]
  },
  {
   "cell_type": "markdown",
   "id": "a87e5147-0774-4ea4-9e5c-2f5a5cd164f9",
   "metadata": {},
   "source": [
    "## 39. Create a list of the first 10 factorial numbers."
   ]
  },
  {
   "cell_type": "code",
   "execution_count": 19,
   "id": "4d9de4fc-2497-46b1-aef1-f8d804910a74",
   "metadata": {},
   "outputs": [
    {
     "name": "stdout",
     "output_type": "stream",
     "text": [
      "List of the first 10 factorial numbers: [1, 1, 2, 6, 24, 120, 720, 5040, 40320, 362880]\n"
     ]
    }
   ],
   "source": [
    "def factorial(n):\n",
    "    if n == 0 or n == 1:\n",
    "        return 1\n",
    "    else:\n",
    "        return n * factorial(n - 1)\n",
    "factorial_numbers = [factorial(i) for i in range(10)]\n",
    "print(\"List of the first 10 factorial numbers:\", factorial_numbers)"
   ]
  },
  {
   "cell_type": "markdown",
   "id": "4a53114a-4eb2-46af-ba3b-2efc7d193ad4",
   "metadata": {},
   "source": [
    "## 40. Check if two lists have at least one element in common."
   ]
  },
  {
   "cell_type": "code",
   "execution_count": 20,
   "id": "eff7a474-2db0-4dbe-aeb9-bdd25b5e6c98",
   "metadata": {},
   "outputs": [
    {
     "name": "stdout",
     "output_type": "stream",
     "text": [
      "The lists have at least one common element.\n"
     ]
    }
   ],
   "source": [
    "def has_common_element(list1, list2):\n",
    "    for item in list1:\n",
    "        if item in list2:\n",
    "            return True\n",
    "    return False\n",
    "\n",
    "\n",
    "list1 = [1, 2, 3, 4, 5]\n",
    "list2 = [4, 5, 6, 7, 8]\n",
    "if has_common_element(list1, list2):\n",
    "    print(\"The lists have at least one common element.\")\n",
    "else:\n",
    "    print(\"The lists do not have any common elements.\")"
   ]
  },
  {
   "cell_type": "markdown",
   "id": "0f163ebc-5f4c-4d91-9357-15530055f2d6",
   "metadata": {},
   "source": [
    "## 41. Remove all elements from a list."
   ]
  },
  {
   "cell_type": "code",
   "execution_count": 21,
   "id": "f4dd49c2-9b6f-426c-a4cf-b1cbd67077dd",
   "metadata": {},
   "outputs": [
    {
     "name": "stdout",
     "output_type": "stream",
     "text": [
      "Empty list: []\n"
     ]
    }
   ],
   "source": [
    "my_list = [1, 2, 3, 4, 5]\n",
    "my_list.clear()\n",
    "print(\"Empty list:\", my_list)"
   ]
  },
  {
   "cell_type": "markdown",
   "id": "089637a1-0ebc-4616-a516-8a264159aa77",
   "metadata": {},
   "source": [
    "## 42. Replace negative numbers in a list with 0."
   ]
  },
  {
   "cell_type": "code",
   "execution_count": 1,
   "id": "1aed6c78-f8e4-4f88-a21e-843f90acb624",
   "metadata": {},
   "outputs": [
    {
     "name": "stdout",
     "output_type": "stream",
     "text": [
      "List after replacing negative numbers with 0: [10, 0, 20, 0, 30, 0]\n"
     ]
    }
   ],
   "source": [
    "my_list = [10, -5, 20, -15, 30, -25]\n",
    "for i in range(len(my_list)):\n",
    "    if my_list[i] < 0:\n",
    "        my_list[i] = 0\n",
    "print(\"List after replacing negative numbers with 0:\", my_list)"
   ]
  },
  {
   "cell_type": "markdown",
   "id": "ffce5a9f-5822-4629-b5d4-4af6d03b2022",
   "metadata": {},
   "source": [
    "## 43. Convert a string into a list of words."
   ]
  },
  {
   "cell_type": "code",
   "execution_count": 4,
   "id": "1857b9aa-020b-4767-b30f-e086aa8641bb",
   "metadata": {},
   "outputs": [
    {
     "name": "stdout",
     "output_type": "stream",
     "text": [
      "List of words: ['This', 'is', 'my', 'python', 'string', 'and', 'list', 'assignment.']\n"
     ]
    }
   ],
   "source": [
    "my_string = \"This is my python string and list assignment.\"\n",
    "word_list = my_string.split()\n",
    "print(\"List of words:\", word_list)"
   ]
  },
  {
   "cell_type": "markdown",
   "id": "376ec417-6b0d-403c-8070-1d0d5cbf8da7",
   "metadata": {},
   "source": [
    "## 44. Convert a list of words into a string."
   ]
  },
  {
   "cell_type": "code",
   "execution_count": 7,
   "id": "6bee264e-fb4f-4ea4-8730-514e69bc9b7a",
   "metadata": {},
   "outputs": [
    {
     "name": "stdout",
     "output_type": "stream",
     "text": [
      "converted string: This is my python string and list assignment.\n"
     ]
    }
   ],
   "source": [
    "my_list = [\"This\", \"is\" ,\"my\" ,\"python\" ,\"string \",\"and\" ,\"list\", \"assignment.\"]\n",
    "word_string = \" \".join(word_list)\n",
    "print(\"converted string:\",my_string)"
   ]
  },
  {
   "cell_type": "markdown",
   "id": "943d20fd-1786-4d9e-9fe0-3b3fb07c3f1f",
   "metadata": {},
   "source": [
    "## 45. Create a list of the first `n` powers of 2."
   ]
  },
  {
   "cell_type": "code",
   "execution_count": 8,
   "id": "16203d27-88fc-44ec-9051-b5febea1e6f2",
   "metadata": {},
   "outputs": [
    {
     "name": "stdout",
     "output_type": "stream",
     "text": [
      "List of the first 5 powers of 2: [1, 2, 4, 8, 16]\n"
     ]
    }
   ],
   "source": [
    "n = 5\n",
    "power_list = [2 ** i for i in range(n)]\n",
    "print(\"List of the first\", n, \"powers of 2:\", power_list)"
   ]
  },
  {
   "cell_type": "markdown",
   "id": "920a66d6-1ae3-42e1-88b1-3a5c9d2f47f4",
   "metadata": {},
   "source": [
    "## 46. Find the longest string in a list of strings."
   ]
  },
  {
   "cell_type": "code",
   "execution_count": 11,
   "id": "45be605b-61ae-4f18-8519-12e1b91d20aa",
   "metadata": {},
   "outputs": [
    {
     "name": "stdout",
     "output_type": "stream",
     "text": [
      "Longest string: vijayawada\n"
     ]
    }
   ],
   "source": [
    "string_list = [\"kaikalur\", \"vijayawada\", \"vizag\", \"hyderabad\", \"bangalore\"]\n",
    "\n",
    "longest_string = \"\"\n",
    "for s in string_list:\n",
    "    if len(s) > len(longest_string):\n",
    "        longest_string = s\n",
    "print(\"Longest string:\", longest_string)"
   ]
  },
  {
   "cell_type": "markdown",
   "id": "8ec9945c-d8dc-4a3e-a2d1-5ad2539ba8dc",
   "metadata": {},
   "source": [
    "## 47. Find the shortest string in a list of strings."
   ]
  },
  {
   "cell_type": "code",
   "execution_count": 14,
   "id": "ce2c9683-83be-4b1e-ad20-0fedf8df8163",
   "metadata": {},
   "outputs": [
    {
     "name": "stdout",
     "output_type": "stream",
     "text": [
      "Shortest string: vizag\n"
     ]
    }
   ],
   "source": [
    "string_list = [\"kaikalur\", \"vijayawada\", \"vizag\", \"hyderabad\", \"bangalore\"]\n",
    "shortest_string = string_list[0] \n",
    "for s in string_list:\n",
    "    if len(s) < len(shortest_string):\n",
    "        shortest_string = s\n",
    "print(\"Shortest string:\", shortest_string)"
   ]
  },
  {
   "cell_type": "markdown",
   "id": "5d24291b-ff96-4f9d-9c15-11ba25a24b20",
   "metadata": {},
   "source": [
    "## 48. Create a list of the first `n` triangular numbers."
   ]
  },
  {
   "cell_type": "code",
   "execution_count": 15,
   "id": "fbf1ca35-629c-4e0f-a7ec-72cbeaa00c2b",
   "metadata": {},
   "outputs": [
    {
     "name": "stdout",
     "output_type": "stream",
     "text": [
      "List of the first 5 triangular numbers: [1, 3, 6, 10, 15]\n"
     ]
    }
   ],
   "source": [
    "def triangular_numbers(n):\n",
    "    return [i * (i + 1) // 2 for i in range(1, n + 1)]\n",
    "n = 5\n",
    "triangular_list = triangular_numbers(n)\n",
    "print(\"List of the first\", n, \"triangular numbers:\", triangular_list)"
   ]
  },
  {
   "cell_type": "markdown",
   "id": "1d5d367c-cd16-4cf2-a3d6-43fa00391609",
   "metadata": {},
   "source": [
    "## 49. Check if a list contains another list as a subsequence."
   ]
  },
  {
   "cell_type": "code",
   "execution_count": 20,
   "id": "89aaa9cc-400d-45f3-b5a6-0119c715323b",
   "metadata": {},
   "outputs": [
    {
     "name": "stdout",
     "output_type": "stream",
     "text": [
      "Main list does not contain the subsequence.\n"
     ]
    }
   ],
   "source": [
    "def is_subsequence(subsequence, main_list):\n",
    "    subseq_index = 0  \n",
    "    for element in main_list:\n",
    "        if element == subsequence[subseq_index]:\n",
    "            subseq_index += 1\n",
    "            if subseq_index == len(subsequence):\n",
    "                return False\n",
    "    return True\n",
    "main_list = [1, 2, 3, 4, 5, 4, 8, 7, 9, 10]\n",
    "subsequence = [3, 4, 5]\n",
    "if is_subsequence(subsequence, main_list):\n",
    "    print(\"Main list contains the subsequence.\")\n",
    "else:\n",
    "    print(\"Main list does not contain the subsequence.\")"
   ]
  },
  {
   "cell_type": "markdown",
   "id": "de65e821-c5e7-488d-9dbb-af77f00cf58a",
   "metadata": {},
   "source": [
    "## 50. Swap two elements in a list by their indices."
   ]
  },
  {
   "cell_type": "code",
   "execution_count": 26,
   "id": "dd4dfd7e-d946-4d09-a031-b64474e961ec",
   "metadata": {},
   "outputs": [
    {
     "name": "stdout",
     "output_type": "stream",
     "text": [
      "List after swapping elements: [1, 5, 3, 4, 2]\n"
     ]
    }
   ],
   "source": [
    "my_list = [1, 2, 3, 4, 5]\n",
    "index1 = 1\n",
    "index2 = 4\n",
    "\n",
    "temp = my_list[index1]\n",
    "my_list[index1] = my_list[index2]\n",
    "my_list[index2] = temp\n",
    "\n",
    "print(\"List after swapping elements:\", my_list)"
   ]
  },
  {
   "cell_type": "markdown",
   "id": "56211c94-0954-4fc0-af66-40a7e189dca6",
   "metadata": {},
   "source": [
    "# Tuple Based Practice Problem :"
   ]
  },
  {
   "cell_type": "markdown",
   "id": "3c2201b0-62bd-418d-ab6d-2986b492b55a",
   "metadata": {},
   "source": [
    "## 1. Create a tuple with integers from 1 to 5."
   ]
  },
  {
   "cell_type": "code",
   "execution_count": 7,
   "id": "3cf1e28a-5834-44b3-990e-04b73a919eb7",
   "metadata": {},
   "outputs": [
    {
     "name": "stdout",
     "output_type": "stream",
     "text": [
      "[1, 2, 3, 4, 5]\n"
     ]
    }
   ],
   "source": [
    "tuple = [i for i in range(1, 6)]\n",
    "print(tuple)"
   ]
  },
  {
   "cell_type": "markdown",
   "id": "8faca394-a8ff-4cd2-9148-44a6883eb3c2",
   "metadata": {},
   "source": [
    "## 2. Access the third element of a tuple."
   ]
  },
  {
   "cell_type": "code",
   "execution_count": 4,
   "id": "3b8a18bc-5459-49ff-b22b-9e91017ca431",
   "metadata": {},
   "outputs": [
    {
     "name": "stdout",
     "output_type": "stream",
     "text": [
      "the third element of the tupleis: 30\n"
     ]
    }
   ],
   "source": [
    "my_tuple = (10, 20, 30, 40, 50)\n",
    "third_element = my_tuple[2]\n",
    "print(\"the third element of the tupleis:\",third_element)"
   ]
  },
  {
   "cell_type": "markdown",
   "id": "ad31fc8f-f2d5-4e53-b2ea-cc32d057a208",
   "metadata": {},
   "source": [
    "## 3. Find the length of a tuple without using the `len()` function."
   ]
  },
  {
   "cell_type": "code",
   "execution_count": 8,
   "id": "5e5a2189-8dec-41f3-aac1-33c4682badbc",
   "metadata": {},
   "outputs": [
    {
     "name": "stdout",
     "output_type": "stream",
     "text": [
      "The length of the tuple is: 5\n"
     ]
    }
   ],
   "source": [
    "my_tuple = (10, 20, 30, 40, 50)\n",
    "count = 0\n",
    "for _ in my_tuple:\n",
    "    count += 1\n",
    "print(\"The length of the tuple is:\", count)"
   ]
  },
  {
   "cell_type": "markdown",
   "id": "91c1b338-42b6-47ae-8f01-a5724d189188",
   "metadata": {},
   "source": [
    "## 4. Count the occurrences of an element in a tuple."
   ]
  },
  {
   "cell_type": "code",
   "execution_count": 9,
   "id": "1740a6aa-a990-403f-8b1c-e37159f99eb4",
   "metadata": {},
   "outputs": [
    {
     "name": "stdout",
     "output_type": "stream",
     "text": [
      "The element 50 appears 1 times in the tuple.\n"
     ]
    }
   ],
   "source": [
    "my_tuple = (10, 20, 30, 20, 40, 50, 20)\n",
    "element_to_count = 50\n",
    "count = 0\n",
    "for item in my_tuple:\n",
    "    if item == element_to_count:\n",
    "        count += 1\n",
    "print(f\"The element {element_to_count} appears {count} times in the tuple.\")"
   ]
  },
  {
   "cell_type": "markdown",
   "id": "4d4334e9-ee92-4215-a604-21a07420802f",
   "metadata": {},
   "source": [
    "## 5. Find the index of the first occurrence of an element in a tuple."
   ]
  },
  {
   "cell_type": "code",
   "execution_count": 6,
   "id": "3457e4b2-d98b-4baf-b9c3-ed887cf11340",
   "metadata": {},
   "outputs": [
    {
     "name": "stdout",
     "output_type": "stream",
     "text": [
      "The first occurrence of 20 is at index 1.\n"
     ]
    }
   ],
   "source": [
    "my_tuple = (10, 20, 30, 20, 40, 50)\n",
    "element_to_find = 20\n",
    "index = 1  \n",
    "for i, item in enumerate(my_tuple):\n",
    "    if item == element_to_find:\n",
    "        index = i\n",
    "        break  \n",
    "if index != -1:\n",
    "    print(f\"The first occurrence of {element_to_find} is at index {index}.\")\n",
    "else:\n",
    "    print(f\"{element_to_find} is not found in the tuple.\")"
   ]
  },
  {
   "cell_type": "markdown",
   "id": "02d6bbcd-246a-4ad1-a280-56d5299190d2",
   "metadata": {},
   "source": [
    "## 6. Check if an element exists in a tuple."
   ]
  },
  {
   "cell_type": "code",
   "execution_count": 11,
   "id": "38a988a4-e7f2-4c4d-a85f-1474be68090f",
   "metadata": {},
   "outputs": [
    {
     "name": "stdout",
     "output_type": "stream",
     "text": [
      "60 does not exist in the tuple.\n"
     ]
    }
   ],
   "source": [
    "my_tuple = (10, 20, 30, 40, 50)\n",
    "element_to_check = 60\n",
    "if element_to_check in my_tuple:\n",
    "    print(f\"{element_to_check} exists in the tuple.\")\n",
    "else:\n",
    "    print(f\"{element_to_check} does not exist in the tuple.\")"
   ]
  },
  {
   "cell_type": "markdown",
   "id": "19d7479b-6a12-4047-a677-aea53a956fde",
   "metadata": {},
   "source": [
    "## 7. Convert a tuple to a list."
   ]
  },
  {
   "cell_type": "code",
   "execution_count": 12,
   "id": "64bc82e8-d5df-4ff4-9e0f-6a080932ba94",
   "metadata": {},
   "outputs": [
    {
     "name": "stdout",
     "output_type": "stream",
     "text": [
      "Tuple: (10, 20, 30, 40, 50)\n",
      "List: [10, 20, 30, 40, 50]\n"
     ]
    }
   ],
   "source": [
    "my_tuple = (10, 20, 30, 40, 50)\n",
    "my_list = list(my_tuple)\n",
    "print(\"Tuple:\", my_tuple)\n",
    "print(\"List:\", my_list)"
   ]
  },
  {
   "cell_type": "markdown",
   "id": "cd503ded-7798-427f-8e39-dc9513ca863c",
   "metadata": {},
   "source": [
    "## 8. Convert a list to a tuple."
   ]
  },
  {
   "cell_type": "code",
   "execution_count": 13,
   "id": "ba9589f0-852c-4f64-bd89-1e2eb2b25a4c",
   "metadata": {},
   "outputs": [
    {
     "name": "stdout",
     "output_type": "stream",
     "text": [
      "List: [10, 20, 30, 40, 50, 60]\n",
      "Tuple: (10, 20, 30, 40, 50, 60)\n"
     ]
    }
   ],
   "source": [
    "my_list =[10,20,30,40,50,60]\n",
    "my_tuple = tuple(my_list)\n",
    "print(\"List:\",my_list)\n",
    "print(\"Tuple:\",my_tuple)"
   ]
  },
  {
   "cell_type": "markdown",
   "id": "d8cb67ec-7296-43c2-8792-d580ca8aa974",
   "metadata": {},
   "source": [
    "## 9. Unpack the elements of a tuple into variables."
   ]
  },
  {
   "cell_type": "code",
   "execution_count": 15,
   "id": "cb3ff54c-277b-4763-a416-e03e1daa10f2",
   "metadata": {},
   "outputs": [
    {
     "name": "stdout",
     "output_type": "stream",
     "text": [
      "var_1: 20\n",
      "var_2: 40\n",
      "var_3: 60\n"
     ]
    }
   ],
   "source": [
    "my_tuple = (20,40,60)\n",
    "var_1,var_2,var_3 = my_tuple\n",
    "print(\"var_1:\",var_1)\n",
    "print(\"var_2:\",var_2)\n",
    "print(\"var_3:\",var_3)"
   ]
  },
  {
   "cell_type": "markdown",
   "id": "173661aa-4687-42ea-9631-368f261c8fe4",
   "metadata": {},
   "source": [
    "## 10. Create a tuple of even numbers from 1 to 10."
   ]
  },
  {
   "cell_type": "code",
   "execution_count": 21,
   "id": "e5735676-0053-43dd-a3c6-ff67a731f914",
   "metadata": {},
   "outputs": [
    {
     "name": "stdout",
     "output_type": "stream",
     "text": [
      "Tuple even numbers: (2, 4, 6, 8, 10)\n"
     ]
    }
   ],
   "source": [
    "even_numbers_list = [num for num in range(2,11,2)]\n",
    "even_numbers_tuple = tuple(even_numbers_list)\n",
    "print(\"Tuple even numbers:\",even_numbers_tuple)                     "
   ]
  },
  {
   "cell_type": "markdown",
   "id": "afb12b50-3f57-43cf-8762-863a478709b7",
   "metadata": {},
   "source": [
    "## 11. Create a tuple of odd numbers from 1 to 10."
   ]
  },
  {
   "cell_type": "code",
   "execution_count": 22,
   "id": "74296ffe-93c8-434a-9838-8e5180779746",
   "metadata": {},
   "outputs": [
    {
     "name": "stdout",
     "output_type": "stream",
     "text": [
      "Tuple odd numbers: (1, 3, 5, 7, 9)\n"
     ]
    }
   ],
   "source": [
    "odd_numbers_list = [num for num in range(1,11,2)]\n",
    "odd_numbers_tuple = tuple(odd_numbers_list)\n",
    "print(\"Tuple odd numbers:\",odd_numbers_tuple)"
   ]
  },
  {
   "cell_type": "markdown",
   "id": "8cf25fb1-aa88-4987-adaa-c50b8fb5e0bd",
   "metadata": {},
   "source": [
    "## 12. Concatenate two tuples."
   ]
  },
  {
   "cell_type": "code",
   "execution_count": 25,
   "id": "8590e9e5-0a78-4e81-a69b-70b25e2d2115",
   "metadata": {},
   "outputs": [
    {
     "name": "stdout",
     "output_type": "stream",
     "text": [
      "(1, 2, 3, 4, 5, 6, 7, 8)\n"
     ]
    }
   ],
   "source": [
    "tuple_1 = (1,2,3,4)\n",
    "tuple_2 = (5,6,7,8)\n",
    "tuple = tuple_1 + tuple_2\n",
    "print(tuple)"
   ]
  },
  {
   "cell_type": "markdown",
   "id": "5dcd6bfd-3399-4eaf-b674-4e4789c4819d",
   "metadata": {},
   "source": [
    "## 13. Repeat a tuple three times."
   ]
  },
  {
   "cell_type": "code",
   "execution_count": 27,
   "id": "6f84a500-c080-4823-8763-6ed79bfbf707",
   "metadata": {},
   "outputs": [
    {
     "name": "stdout",
     "output_type": "stream",
     "text": [
      "(1, 2, 3, 1, 2, 3, 1, 2, 3)\n"
     ]
    }
   ],
   "source": [
    "tuple = (1, 2, 3)\n",
    "repeated_tuple = tuple * 3\n",
    "print(repeated_tuple)"
   ]
  },
  {
   "cell_type": "markdown",
   "id": "1aa4b21d-12bc-494e-b13e-b1a273092bbd",
   "metadata": {},
   "source": [
    "## 14. Check if a tuple is empty."
   ]
  },
  {
   "cell_type": "code",
   "execution_count": 30,
   "id": "5485c8f5-bcd6-46aa-b4a1-025de13cc5d4",
   "metadata": {},
   "outputs": [
    {
     "name": "stdout",
     "output_type": "stream",
     "text": [
      "The empty tuple is empty\n",
      "The non empty tuple is not empty\n"
     ]
    }
   ],
   "source": [
    "empty_tuple=()\n",
    "if not empty_tuple:\n",
    "    print(\"The empty tuple is empty\")\n",
    "else:\n",
    "    print(\"The empty tuple is not empty\")\n",
    "non_empty_tuple=(1,2,3)\n",
    "if not non_empty_tuple:\n",
    "    print(\"The non empty tuple is empty\")\n",
    "else:\n",
    "    print(\"The non empty tuple is not empty\")"
   ]
  },
  {
   "cell_type": "markdown",
   "id": "72d402cc-3330-45ce-8a20-b4689687cac0",
   "metadata": {},
   "source": [
    "## 15. Create a nested tuple."
   ]
  },
  {
   "cell_type": "code",
   "execution_count": 33,
   "id": "fda0465b-cac1-48e7-a254-1f45d1314508",
   "metadata": {},
   "outputs": [
    {
     "name": "stdout",
     "output_type": "stream",
     "text": [
      "Nested tuple: ((1, 2, 3), ('a', 'b', 'c'), (True, False))\n"
     ]
    }
   ],
   "source": [
    "nested_tuple = ((1, 2, 3), ('a', 'b', 'c'), (True, False))\n",
    "print(\"Nested tuple:\", nested_tuple)"
   ]
  },
  {
   "cell_type": "markdown",
   "id": "fa6fd0f1-d65a-41aa-bc67-e7db03028ab3",
   "metadata": {},
   "source": [
    "## 16. Access the first element of a nested tuple."
   ]
  },
  {
   "cell_type": "code",
   "execution_count": 4,
   "id": "8f45b251-31e1-40b7-b2b2-bf18fe4be7ba",
   "metadata": {},
   "outputs": [
    {
     "name": "stdout",
     "output_type": "stream",
     "text": [
      "first element  of nested tuple: (1, 2, 3)\n"
     ]
    }
   ],
   "source": [
    "nested_tuple = ((1, 2, 3), ('a', 'b', 'c'), (True, False))\n",
    "first_element = nested_tuple[0]\n",
    "print(\"first element  of nested tuple:\",first_element)              "
   ]
  },
  {
   "cell_type": "markdown",
   "id": "cba97e43-0d0a-44db-a259-b716f80503d7",
   "metadata": {},
   "source": [
    "## 17. Create a tuple with a single element."
   ]
  },
  {
   "cell_type": "code",
   "execution_count": 6,
   "id": "d6b944c4-a30a-435b-9ea6-a6e1cd9bbee4",
   "metadata": {},
   "outputs": [
    {
     "name": "stdout",
     "output_type": "stream",
     "text": [
      "50\n"
     ]
    }
   ],
   "source": [
    "single_element_tuple = (50)\n",
    "print(single_element_tuple)"
   ]
  },
  {
   "cell_type": "markdown",
   "id": "37a7eea0-1f07-4eeb-882a-f62a2276d54c",
   "metadata": {},
   "source": [
    "## 18. Compare two tuples."
   ]
  },
  {
   "cell_type": "code",
   "execution_count": 10,
   "id": "3ceb311c-7960-481c-916d-6fed8e12db36",
   "metadata": {},
   "outputs": [
    {
     "name": "stdout",
     "output_type": "stream",
     "text": [
      "tuple1==tuple2: False\n",
      "tuple1 != tuple2: True\n",
      "tuple1 < tuple2: True\n",
      "tuple1 > tuple2: False\n",
      "tuple1 >= tuple2: False\n",
      "tuple1 <= tuple2: True\n"
     ]
    }
   ],
   "source": [
    "tuple1 = (1,2,3)\n",
    "tuple2 = (1,2,4)\n",
    "print(\"tuple1==tuple2:\",tuple1==tuple2)\n",
    "print(\"tuple1 != tuple2:\",tuple1 != tuple2)\n",
    "print(\"tuple1 < tuple2:\",tuple1 < tuple2)\n",
    "print(\"tuple1 > tuple2:\",tuple1 > tuple2)\n",
    "print(\"tuple1 >= tuple2:\",tuple1 >= tuple2)\n",
    "print(\"tuple1 <= tuple2:\",tuple1 <= tuple2)"
   ]
  },
  {
   "cell_type": "markdown",
   "id": "e3ca1555-f00b-4e81-9447-18635635b9a9",
   "metadata": {},
   "source": [
    "## 19. Delete a tuple."
   ]
  },
  {
   "cell_type": "code",
   "execution_count": 65,
   "id": "d80edc6d-7687-4bec-9cc7-af229f29ee69",
   "metadata": {},
   "outputs": [
    {
     "ename": "NameError",
     "evalue": "name 'my_tuple' is not defined",
     "output_type": "error",
     "traceback": [
      "\u001b[0;31m---------------------------------------------------------------------------\u001b[0m",
      "\u001b[0;31mNameError\u001b[0m                                 Traceback (most recent call last)",
      "Cell \u001b[0;32mIn[65], line 7\u001b[0m\n\u001b[1;32m      4\u001b[0m \u001b[38;5;28;01mdel\u001b[39;00m my_tuple\n\u001b[1;32m      6\u001b[0m \u001b[38;5;66;03m# Step 3: Try to access the tuple (will raise a NameError)\u001b[39;00m\n\u001b[0;32m----> 7\u001b[0m \u001b[38;5;28mprint\u001b[39m(\u001b[43mmy_tuple\u001b[49m)\n",
      "\u001b[0;31mNameError\u001b[0m: name 'my_tuple' is not defined"
     ]
    }
   ],
   "source": [
    "my_tuple = (1, 2, 3, 4, 5)\n",
    "\n",
    "# Step 2: Delete the tuple using the 'del' statement\n",
    "del my_tuple\n",
    "\n",
    "# Step 3: Try to access the tuple (will raise a NameError)\n",
    "print(my_tuple)"
   ]
  },
  {
   "cell_type": "markdown",
   "id": "4b8e4e43-22fe-4e61-a081-32f054e0fad4",
   "metadata": {},
   "source": [
    "## 20. Slice a tuple."
   ]
  },
  {
   "cell_type": "code",
   "execution_count": 6,
   "id": "844834e8-0f88-4756-86f0-0585b1c345c3",
   "metadata": {},
   "outputs": [
    {
     "name": "stdout",
     "output_type": "stream",
     "text": [
      "Sliced tuple: (4, 5, 6, 7, 8)\n"
     ]
    }
   ],
   "source": [
    "my_tuple = (1, 2, 3, 4, 5, 6, 7, 8, 9, 10)\n",
    "sliced_tuple = my_tuple[3:8]  \n",
    "print(\"Sliced tuple:\", sliced_tuple)"
   ]
  },
  {
   "cell_type": "markdown",
   "id": "09e6c220-a4ed-4bb0-b84f-77c1f756557c",
   "metadata": {},
   "source": [
    "## 21. Find the maximum value in a tuple."
   ]
  },
  {
   "cell_type": "code",
   "execution_count": 10,
   "id": "eca47d88-2e52-4012-8a47-b415cd66dc3c",
   "metadata": {},
   "outputs": [
    {
     "name": "stdout",
     "output_type": "stream",
     "text": [
      "Maximum value: 78\n"
     ]
    }
   ],
   "source": [
    "my_tuple = (1,2,25,45,78,23,44)\n",
    "max_value = max(my_tuple)\n",
    "print(\"Maximum value:\",max_value)"
   ]
  },
  {
   "cell_type": "markdown",
   "id": "bfdca385-5ef5-4390-b211-001957edb7c2",
   "metadata": {},
   "source": [
    "## 22. Find the minimum value in a tuple."
   ]
  },
  {
   "cell_type": "code",
   "execution_count": 11,
   "id": "02a7d70a-7f6f-49ee-b4b1-66b7403e4f56",
   "metadata": {},
   "outputs": [
    {
     "name": "stdout",
     "output_type": "stream",
     "text": [
      "Minimum value: 1\n"
     ]
    }
   ],
   "source": [
    "my_tuple = (1,2,24,15,55,78,65)\n",
    "min_value = min(my_tuple)\n",
    "print(\"Minimum value:\",min_value)"
   ]
  },
  {
   "cell_type": "markdown",
   "id": "9c2912d5-0a4c-46c8-a78d-80f3d0426594",
   "metadata": {},
   "source": [
    "## 23. Convert a string to a tuple of characters."
   ]
  },
  {
   "cell_type": "code",
   "execution_count": 12,
   "id": "a032eba0-74f3-4226-8d36-5c2b9edad46c",
   "metadata": {},
   "outputs": [
    {
     "name": "stdout",
     "output_type": "stream",
     "text": [
      "('s', 'a', 'i', 'k', 'r', 'i', 's', 'h', 'n', 'a')\n"
     ]
    }
   ],
   "source": [
    "string = \"saikrishna\"\n",
    "tuple = tuple(string)\n",
    "print(tuple)\n"
   ]
  },
  {
   "cell_type": "markdown",
   "id": "aeb4861e-4aee-4f5b-8e30-4078f0ce9866",
   "metadata": {},
   "source": [
    "## 24. Convert a tuple of characters to a string."
   ]
  },
  {
   "cell_type": "code",
   "execution_count": 13,
   "id": "1a3f0166-51ee-4fa7-a5d2-12bb6e800db1",
   "metadata": {},
   "outputs": [
    {
     "name": "stdout",
     "output_type": "stream",
     "text": [
      "saikrishna\n"
     ]
    }
   ],
   "source": [
    "tuple = ('s', 'a', 'i', 'k', 'r', 'i', 's', 'h', 'n', 'a')\n",
    "string = ''.join(tuple)\n",
    "print(string)"
   ]
  },
  {
   "cell_type": "markdown",
   "id": "d77d5276-ec69-4b9f-a72b-d0a64eced899",
   "metadata": {},
   "source": [
    "## 25. Create a tuple from multiple data types."
   ]
  },
  {
   "cell_type": "code",
   "execution_count": 14,
   "id": "463c833d-b32d-4f92-8562-2504e39d8dde",
   "metadata": {},
   "outputs": [
    {
     "name": "stdout",
     "output_type": "stream",
     "text": [
      "(12, 'sai', 21.1, True, (2+5j))\n"
     ]
    }
   ],
   "source": [
    "tuple = (12,\"sai\",21.1,True,2+5j)\n",
    "print(tuple)"
   ]
  },
  {
   "cell_type": "markdown",
   "id": "c70f155d-5e26-4ad9-9436-5691c2517da3",
   "metadata": {},
   "source": [
    "## 26. Check if two tuples are identical."
   ]
  },
  {
   "cell_type": "code",
   "execution_count": 15,
   "id": "01fe600a-bddc-4c8d-8b2c-593cd53eaed0",
   "metadata": {},
   "outputs": [
    {
     "name": "stdout",
     "output_type": "stream",
     "text": [
      "tuple1 and tuple2 are identical1: True\n",
      "tuple1 and tuple3 are identical2: False\n"
     ]
    }
   ],
   "source": [
    "tuple1 = (1,2,3)\n",
    "tuple2 = (1,2,3)\n",
    "tuple3 = (4,5,6)\n",
    "are_identical1 = tuple1==tuple2\n",
    "are_identical2 = tuple1==tuple3\n",
    "print(\"tuple1 and tuple2 are identical1:\",are_identical1)\n",
    "print(\"tuple1 and tuple3 are identical2:\", are_identical2)"
   ]
  },
  {
   "cell_type": "markdown",
   "id": "679aeddf-c219-45c0-a4e1-750c5a5a6dcc",
   "metadata": {},
   "source": [
    "## 27. Sort the elements of a tuple."
   ]
  },
  {
   "cell_type": "code",
   "execution_count": 22,
   "id": "416f94c3-d4b6-4a23-810e-9206859e869e",
   "metadata": {},
   "outputs": [
    {
     "name": "stdout",
     "output_type": "stream",
     "text": [
      "sorted tuple in  order: [10, 10, 20, 30, 30, 40, 50, 60, 70]\n"
     ]
    }
   ],
   "source": [
    "my_tuple = [10, 30,20,10,40,60,70,50, 30]\n",
    "my_tuple.sort()\n",
    "print(\"sorted tuple in  order:\",my_tuple)"
   ]
  },
  {
   "cell_type": "markdown",
   "id": "6be1be2f-bd7b-4834-b820-99c068e15d60",
   "metadata": {},
   "source": [
    "## 28. Convert a tuple of integers to a tuple of strings."
   ]
  },
  {
   "cell_type": "code",
   "execution_count": 2,
   "id": "7907b862-5307-473e-85fc-e422b320a4e7",
   "metadata": {},
   "outputs": [
    {
     "name": "stdout",
     "output_type": "stream",
     "text": [
      "Tuple of string: ('1', '2', '3', '4', '5')\n"
     ]
    }
   ],
   "source": [
    "tuple_of_integers = (1, 2, 3, 4, 5)\n",
    "tuple_of_string =  tuple(str(item) for item in tuple_of_integers)\n",
    "print(\"Tuple of string:\", tuple_of_string)\n"
   ]
  },
  {
   "cell_type": "markdown",
   "id": "7dc50c95-6df9-4869-a7fb-8d6e9f28ca16",
   "metadata": {},
   "source": [
    "## 29. Convert a tuple of strings to a tuple of integers."
   ]
  },
  {
   "cell_type": "code",
   "execution_count": 1,
   "id": "392e70e6-6211-4e10-9bc3-509f7bb13743",
   "metadata": {},
   "outputs": [
    {
     "name": "stdout",
     "output_type": "stream",
     "text": [
      "Tuple of integers: (10, 20, 30, 40, 50)\n"
     ]
    }
   ],
   "source": [
    "tuple_of_strings = ('10', '20', '30', '40', '50')\n",
    "\n",
    "# Step 2: Convert the tuple of strings to a tuple of integers using a list comprehension\n",
    "tuple_of_integers =  tuple(int(item) for item in tuple_of_strings)\n",
    "\n",
    "# Step 3: Print the tuple of integers\n",
    "print(\"Tuple of integers:\", tuple_of_integers)"
   ]
  },
  {
   "cell_type": "markdown",
   "id": "b1a043c3-a83c-45a8-b3ed-de229d663659",
   "metadata": {},
   "source": [
    "## 30. Merge two tuples."
   ]
  },
  {
   "cell_type": "code",
   "execution_count": 3,
   "id": "95deafc5-8ef5-4609-b832-ee0058ace13f",
   "metadata": {},
   "outputs": [
    {
     "name": "stdout",
     "output_type": "stream",
     "text": [
      "(1, 2, 5, 4, 2, 5, 4, 2)\n"
     ]
    }
   ],
   "source": [
    "tuple1 = (1,2,5,4)\n",
    "tuple2 = (2,5,4,2)\n",
    "tuple3 = t1+t2\n",
    "print(tuple3)"
   ]
  },
  {
   "cell_type": "markdown",
   "id": "795a0df4-4530-4e4c-983b-5a7e87b62fa6",
   "metadata": {},
   "source": [
    "## 31. Flatten a nested tuple."
   ]
  },
  {
   "cell_type": "code",
   "execution_count": 4,
   "id": "d72fd0c8-b90f-4379-a4ec-83ff298c33b0",
   "metadata": {},
   "outputs": [
    {
     "name": "stdout",
     "output_type": "stream",
     "text": [
      "Flattened tuple: (1, 2, 3, 4, 5, 6, 7, 8)\n"
     ]
    }
   ],
   "source": [
    "def flatten_tuple(nested_tuple):\n",
    "    flattened = []\n",
    "    for item in nested_tuple:\n",
    "        if isinstance(item, tuple):\n",
    "            flattened.extend(flatten_tuple(item))\n",
    "        else:\n",
    "            flattened.append(item)\n",
    "    return flattened\n",
    "nested_tuple = ((1, 2), (3, 4, 5), (6, (7, 8)))\n",
    "flattened_tuple = tuple(flatten_tuple(nested_tuple))\n",
    "print(\"Flattened tuple:\", flattened_tuple)"
   ]
  },
  {
   "cell_type": "markdown",
   "id": "9f7cbf68-2899-4837-9e0b-e8c5829ce7cb",
   "metadata": {},
   "source": [
    "## 32. Create a tuple of the first 5 prime numbers."
   ]
  },
  {
   "cell_type": "code",
   "execution_count": 5,
   "id": "b363bbe7-65d1-4a76-92c0-b7922f301801",
   "metadata": {},
   "outputs": [
    {
     "name": "stdout",
     "output_type": "stream",
     "text": [
      "Tuple of the first 5 prime numbers: (2, 3, 5, 7, 11)\n"
     ]
    }
   ],
   "source": [
    "def is_prime(num):\n",
    "    if num <= 1:\n",
    "        return False\n",
    "    for i in range(2, int(num ** 0.5) + 1):\n",
    "        if num % i == 0:\n",
    "            return False\n",
    "    return True\n",
    "\n",
    "prime_numbers_list = [num for num in range(2, 100) if is_prime(num)][:5]\n",
    "prime_numbers_tuple = tuple(prime_numbers_list)\n",
    "print(\"Tuple of the first 5 prime numbers:\", prime_numbers_tuple)"
   ]
  },
  {
   "cell_type": "markdown",
   "id": "8c8419ee-4726-45ea-8efd-4e48489199d5",
   "metadata": {},
   "source": [
    "## 33. Check if a tuple is a palindrome."
   ]
  },
  {
   "cell_type": "code",
   "execution_count": 8,
   "id": "20cf3395-d083-4719-91c2-b561cb19abc7",
   "metadata": {},
   "outputs": [
    {
     "name": "stdout",
     "output_type": "stream",
     "text": [
      "palindrome_tuple is a palindrome: True\n",
      "non_palindrome_tuple is a palindrome: False\n"
     ]
    }
   ],
   "source": [
    "def is_palindrome(tup):\n",
    "    return tup == tup[::-1]\n",
    "\n",
    "palindrome_tuple = (1, 2, 3, 2, 1)\n",
    "non_palindrome_tuple = (1, 2, 3, 4, 5)\n",
    "\n",
    "is_palindrome1 = is_palindrome(palindrome_tuple)\n",
    "is_palindrome2 = is_palindrome(non_palindrome_tuple)\n",
    "\n",
    "print(\"palindrome_tuple is a palindrome:\", is_palindrome1)\n",
    "print(\"non_palindrome_tuple is a palindrome:\", is_palindrome2)"
   ]
  },
  {
   "cell_type": "markdown",
   "id": "242a2808-e6cc-4949-a6c0-accd345fa388",
   "metadata": {},
   "source": [
    "## 34. Create a tuple of squares of numbers from 1 to 5."
   ]
  },
  {
   "cell_type": "code",
   "execution_count": 9,
   "id": "57baecaa-ddc1-4ec1-9a57-d11669703849",
   "metadata": {},
   "outputs": [
    {
     "name": "stdout",
     "output_type": "stream",
     "text": [
      "Tuple of squares: (1, 4, 9, 16, 25)\n"
     ]
    }
   ],
   "source": [
    "squares_tuple = tuple(x ** 2 for x in range(1, 6))\n",
    "print(\"Tuple of squares:\", squares_tuple)"
   ]
  },
  {
   "cell_type": "markdown",
   "id": "5f5c9b97-e736-4d71-a6aa-d84225ee9025",
   "metadata": {},
   "source": [
    "## 35. Filter out all even numbers from a tuple."
   ]
  },
  {
   "cell_type": "code",
   "execution_count": 55,
   "id": "93674b5b-d177-4e16-a812-77966f6b217d",
   "metadata": {},
   "outputs": [
    {
     "name": "stdout",
     "output_type": "stream",
     "text": [
      "Filtered tuple: (2, 4, 6, 8, 10)\n"
     ]
    }
   ],
   "source": [
    "original_tuple = (1, 2, 3, 4, 5, 6, 7, 8, 9, 10)\n",
    "\n",
    "filtered_tuple = tuple(num for num in original_tuple if num % 2 == 0)\n",
    "\n",
    "print(\"Filtered tuple:\", filtered_tuple)"
   ]
  },
  {
   "cell_type": "markdown",
   "id": "e5fb16fc-458a-4578-bccf-6edf987a16ca",
   "metadata": {},
   "source": [
    "## 36. Multiply all elements in a tuple by 2."
   ]
  },
  {
   "cell_type": "code",
   "execution_count": 14,
   "id": "6c337974-0dc9-4d16-add2-320eadcc7840",
   "metadata": {},
   "outputs": [
    {
     "name": "stdout",
     "output_type": "stream",
     "text": [
      "Doubled tuple: (2, 4, 6, 8, 10)\n"
     ]
    }
   ],
   "source": [
    "original_tuple = (1, 2, 3, 4, 5)\n",
    "\n",
    "doubled_tuple = tuple(num * 2 for num in original_tuple)\n",
    "print(\"Doubled tuple:\", doubled_tuple)"
   ]
  },
  {
   "cell_type": "markdown",
   "id": "b0985818-ed82-4037-9d7a-72598a71c26e",
   "metadata": {},
   "source": [
    "## 37. Create a tuple of random numbers."
   ]
  },
  {
   "cell_type": "code",
   "execution_count": 16,
   "id": "39ce92f0-5ef2-4627-99e1-fd70e6ede84b",
   "metadata": {},
   "outputs": [
    {
     "name": "stdout",
     "output_type": "stream",
     "text": [
      "Random tuple: (82, 18, 64, 50, 67, 45, 92, 85, 65, 34)\n"
     ]
    }
   ],
   "source": [
    "import random\n",
    "random_tuple = tuple(random.randint(1, 100) for _ in range(10)) \n",
    "print(\"Random tuple:\", random_tuple)"
   ]
  },
  {
   "cell_type": "markdown",
   "id": "c4dcb8b6-6844-4933-bcef-d0bd4d10742a",
   "metadata": {},
   "source": [
    "## 38. Check if a tuple is sorted."
   ]
  },
  {
   "cell_type": "code",
   "execution_count": 17,
   "id": "e1ef46a4-4a3b-4f38-a78a-4fa6286f6bee",
   "metadata": {},
   "outputs": [
    {
     "name": "stdout",
     "output_type": "stream",
     "text": [
      "sorted_tuple is sorted: True\n",
      "unsorted_tuple is sorted: False\n"
     ]
    }
   ],
   "source": [
    "def is_sorted(tup):\n",
    "    for i in range(len(tup) - 1):\n",
    "        if tup[i] > tup[i + 1]:\n",
    "            return False\n",
    "    return True\n",
    "sorted_tuple = (1, 2, 3, 4, 5)\n",
    "unsorted_tuple = (5, 3, 1, 4, 2)\n",
    "\n",
    "is_sorted1 = is_sorted(sorted_tuple)\n",
    "is_sorted2 = is_sorted(unsorted_tuple)\n",
    "\n",
    "print(\"sorted_tuple is sorted:\", is_sorted1)\n",
    "print(\"unsorted_tuple is sorted:\", is_sorted2)"
   ]
  },
  {
   "cell_type": "markdown",
   "id": "0c544dee-087d-43f9-a8a7-9144bc54efdf",
   "metadata": {},
   "source": [
    "## 39. Rotate a tuple to the left by `n` positions."
   ]
  },
  {
   "cell_type": "code",
   "execution_count": 21,
   "id": "f2346c0a-0008-4141-99af-bb5a84c36ee2",
   "metadata": {},
   "outputs": [
    {
     "name": "stdout",
     "output_type": "stream",
     "text": [
      "(4, 5, 1, 2, 3)\n"
     ]
    }
   ],
   "source": [
    "def rotate_tuple_left(tup, n):\n",
    "    n = n % len(tup) \n",
    "    rotated_tuple = tup[n:] + tup[:n] \n",
    "    return rotated_tuple\n",
    "my_tuple = (1, 2, 3, 4, 5)\n",
    "n_positions = 3\n",
    "result = rotate_tuple_left(my_tuple, n_positions)\n",
    "print(result)"
   ]
  },
  {
   "cell_type": "markdown",
   "id": "4b958685-20c5-46b6-8085-638f08d4df68",
   "metadata": {},
   "source": [
    "## 40. Rotate a tuple to the right by `n` positions."
   ]
  },
  {
   "cell_type": "code",
   "execution_count": 20,
   "id": "ecccb8ae-b296-48b5-975d-2efc7565a99b",
   "metadata": {},
   "outputs": [
    {
     "name": "stdout",
     "output_type": "stream",
     "text": [
      "(5, 1, 2, 3, 4)\n"
     ]
    }
   ],
   "source": [
    "def rotate_tuple_left(tup, n):\n",
    "    n = n % len(tup) \n",
    "    rotated_tuple = tup[-n:] + tup[:-n] \n",
    "    return rotated_tuple\n",
    "my_tuple = (1, 2, 3, 4, 5)\n",
    "n_positions = 1\n",
    "result = rotate_tuple_left(my_tuple, n_positions)\n",
    "print(result)"
   ]
  },
  {
   "cell_type": "markdown",
   "id": "b07108ee-6e7e-4ce0-aa05-bab3ed0379a5",
   "metadata": {},
   "source": [
    "## 41. Create a tuple of the first 5 Fibonacci numbers."
   ]
  },
  {
   "cell_type": "code",
   "execution_count": 22,
   "id": "9da8a47f-0990-41e2-918f-6a1642f6f61e",
   "metadata": {},
   "outputs": [
    {
     "name": "stdout",
     "output_type": "stream",
     "text": [
      "(0, 1, 1, 2, 3)\n"
     ]
    }
   ],
   "source": [
    "def generate_fibonacci(n):\n",
    "    fibonacci = [0, 1]  \n",
    "    while len(fibonacci) < n:  \n",
    "        next_number = fibonacci[-1] + fibonacci[-2]  \n",
    "        fibonacci.append(next_number)  \n",
    "    return tuple(fibonacci)  \n",
    "fibonacci_tuple = generate_fibonacci(5)\n",
    "print(fibonacci_tuple)"
   ]
  },
  {
   "cell_type": "markdown",
   "id": "bf1080b7-a87c-4052-b69e-9309f856eb7f",
   "metadata": {},
   "source": [
    "## 42. Create a tuple from user input."
   ]
  },
  {
   "cell_type": "code",
   "execution_count": 23,
   "id": "e59e25ca-af37-48c0-aaab-5145c041601e",
   "metadata": {},
   "outputs": [
    {
     "name": "stdin",
     "output_type": "stream",
     "text": [
      "Enter elements separated by commas:  s,a,i,k,r,i,s,h,n,a\n"
     ]
    },
    {
     "name": "stdout",
     "output_type": "stream",
     "text": [
      "User input tuple: ('s', 'a', 'i', 'k', 'r', 'i', 's', 'h', 'n', 'a')\n"
     ]
    }
   ],
   "source": [
    "input_str = input(\"Enter elements separated by commas: \")\n",
    "input_list = input_str.split(',')\n",
    "user_tuple = tuple(input_list)\n",
    "print(\"User input tuple:\", user_tuple)"
   ]
  },
  {
   "cell_type": "markdown",
   "id": "651b56cf-b33a-40d5-b820-3124dfb589ae",
   "metadata": {},
   "source": [
    "## 43. Swap two elements in a tuple."
   ]
  },
  {
   "cell_type": "code",
   "execution_count": 27,
   "id": "837861eb-801d-4152-91f4-7c024ce7f36e",
   "metadata": {},
   "outputs": [
    {
     "name": "stdout",
     "output_type": "stream",
     "text": [
      "tuple after swapping elements: [1, 4, 3, 2, 5]\n"
     ]
    }
   ],
   "source": [
    "my_tuple = [1, 2, 3, 4, 5]\n",
    "index1 = 1\n",
    "index2 = 3\n",
    "\n",
    "temp = my_tuple[index1]\n",
    "my_tuple[index1] = my_tuple[index2]\n",
    "my_tuple[index2] = temp\n",
    "\n",
    "print(\"tuple after swapping elements:\", my_tuple)"
   ]
  },
  {
   "cell_type": "markdown",
   "id": "7fe170af-6b20-47cd-962c-b91d27b9d503",
   "metadata": {},
   "source": [
    "## 44. Reverse the elements of a tuple."
   ]
  },
  {
   "cell_type": "code",
   "execution_count": 28,
   "id": "4d284c3c-1f05-4e10-add7-3133ff70a5b9",
   "metadata": {},
   "outputs": [
    {
     "name": "stdout",
     "output_type": "stream",
     "text": [
      "Reversed tuple: (5, 4, 3, 2, 1)\n"
     ]
    }
   ],
   "source": [
    "my_tuple = (1, 2, 3, 4, 5)\n",
    "reversed_tuple = my_tuple[::-1]\n",
    "print(\"Reversed tuple:\", reversed_tuple)"
   ]
  },
  {
   "cell_type": "markdown",
   "id": "3be93ce7-fc9d-4ad0-91f4-6143b50fcfe7",
   "metadata": {},
   "source": [
    "## 45. Create a tuple of the first `n` powers of 2."
   ]
  },
  {
   "cell_type": "code",
   "execution_count": 29,
   "id": "9e207c9f-ba87-43ca-8a3e-4e41bca4e23d",
   "metadata": {},
   "outputs": [
    {
     "name": "stdout",
     "output_type": "stream",
     "text": [
      "Tuple of the first 5 powers of 2: (1, 2, 4, 8, 16)\n"
     ]
    }
   ],
   "source": [
    "n = 5\n",
    "powers_of_2_tuple = tuple(2 ** i for i in range(n))\n",
    "print(\"Tuple of the first\", n, \"powers of 2:\", powers_of_2_tuple)"
   ]
  },
  {
   "cell_type": "markdown",
   "id": "5d7cddf3-a441-4ae9-af97-d7d5a8561b2d",
   "metadata": {},
   "source": [
    "## 46. Find the longest string in a tuple of strings."
   ]
  },
  {
   "cell_type": "code",
   "execution_count": 30,
   "id": "5c26d1be-f0a2-428d-a69a-51caa65d4932",
   "metadata": {},
   "outputs": [
    {
     "name": "stdout",
     "output_type": "stream",
     "text": [
      "Longest string: lakshamana\n"
     ]
    }
   ],
   "source": [
    "string_tuple = (\"hunuman\", \"lakshamana\", \"sita\", \"ram\")\n",
    "longest_string = max(string_tuple, key=len)\n",
    "print(\"Longest string:\", longest_string)"
   ]
  },
  {
   "cell_type": "markdown",
   "id": "ae1e481d-e318-4ad2-9886-f38e25b825bc",
   "metadata": {},
   "source": [
    "## 47. Find the shortest string in a tuple of strings."
   ]
  },
  {
   "cell_type": "code",
   "execution_count": 32,
   "id": "e93fc3ba-f796-4689-967b-45fd4f39b1e8",
   "metadata": {},
   "outputs": [
    {
     "name": "stdout",
     "output_type": "stream",
     "text": [
      "shortest string: ram\n"
     ]
    }
   ],
   "source": [
    "string_tuple = (\"hunuman\", \"lakshamana\", \"sita\", \"ram\")\n",
    "shortest_string = min(string_tuple, key=len)\n",
    "print(\"shortest string:\", shortest_string)"
   ]
  },
  {
   "cell_type": "markdown",
   "id": "3870f3e1-7062-463e-9554-9823d3baae62",
   "metadata": {},
   "source": [
    "## 48. Create a tuple of the first `n` triangular numbers."
   ]
  },
  {
   "cell_type": "code",
   "execution_count": 33,
   "id": "0504846f-f2ae-4e2b-a824-4c596a367b32",
   "metadata": {},
   "outputs": [
    {
     "name": "stdout",
     "output_type": "stream",
     "text": [
      "Tuple of the first 5 triangular numbers: (1, 3, 6, 10, 15)\n"
     ]
    }
   ],
   "source": [
    "n = 5\n",
    "triangular_numbers_tuple = tuple((i * (i + 1)) // 2 for i in range(1, n + 1))\n",
    "print(\"Tuple of the first\", n, \"triangular numbers:\", triangular_numbers_tuple)"
   ]
  },
  {
   "cell_type": "markdown",
   "id": "37bafa02-653c-4905-b927-97c8d410db16",
   "metadata": {},
   "source": [
    "## 49. Check if a tuple contains another tuple as a subsequence."
   ]
  },
  {
   "cell_type": "code",
   "execution_count": 34,
   "id": "671728b4-21f4-4a57-99b0-0acaa0e4726d",
   "metadata": {},
   "outputs": [
    {
     "name": "stdout",
     "output_type": "stream",
     "text": [
      "Main tuple contains subsequence tuple: True\n"
     ]
    }
   ],
   "source": [
    "def contains_subsequence(main_tuple, sub_tuple):\n",
    "    sub_length = len(sub_tuple)\n",
    "    for i in range(len(main_tuple) - sub_length + 1):\n",
    "        if main_tuple[i:i+sub_length] == sub_tuple:\n",
    "            return True\n",
    "    return False\n",
    "main_tuple = (1, 2, 3, 4, 5, 6, 7, 8, 9)\n",
    "sub_tuple = (3, 4, 5)\n",
    "contains_subseq = contains_subsequence(main_tuple, sub_tuple)\n",
    "print(\"Main tuple contains subsequence tuple:\", contains_subseq)"
   ]
  },
  {
   "cell_type": "markdown",
   "id": "e08e1735-9907-48f0-8fbc-b4dc3865425b",
   "metadata": {},
   "source": [
    "## 50. Create a tuple of alternating 1s and 0s of length `n`."
   ]
  },
  {
   "cell_type": "code",
   "execution_count": 35,
   "id": "41e8e2ca-f891-4684-9436-611cca1230d3",
   "metadata": {},
   "outputs": [
    {
     "name": "stdout",
     "output_type": "stream",
     "text": [
      "Tuple of alternating 1s and 0s: (0, 1, 0, 1, 0, 1, 0, 1, 0, 1)\n"
     ]
    }
   ],
   "source": [
    "n = 10\n",
    "alternating_tuple = tuple(i % 2 for i in range(n))\n",
    "print(\"Tuple of alternating 1s and 0s:\", alternating_tuple)"
   ]
  },
  {
   "cell_type": "markdown",
   "id": "d67d58f8-25fa-4402-8acd-153fec3a7074",
   "metadata": {},
   "source": [
    "# Set Based Practice Problem :"
   ]
  },
  {
   "cell_type": "markdown",
   "id": "922d9e5c-b005-407c-83a7-0f7cd16d2444",
   "metadata": {},
   "source": [
    "## 1. Create a set with integers from 1 to 5."
   ]
  },
  {
   "cell_type": "code",
   "execution_count": 2,
   "id": "47d00318-723e-4ad7-b9a9-092834c53b7d",
   "metadata": {},
   "outputs": [
    {
     "name": "stdout",
     "output_type": "stream",
     "text": [
      "{1, 2, 3, 4, 5}\n"
     ]
    }
   ],
   "source": [
    "my_set = set()\n",
    "my_set.add(1)\n",
    "my_set.add(2)\n",
    "my_set.add(3)\n",
    "my_set.add(4)\n",
    "my_set.add(5)\n",
    "print(my_set)"
   ]
  },
  {
   "cell_type": "markdown",
   "id": "40f52a94-2b76-46b9-947c-18182652d8e5",
   "metadata": {},
   "source": [
    "## 2. Add an element to a set."
   ]
  },
  {
   "cell_type": "code",
   "execution_count": 4,
   "id": "7e80b7cb-c206-4fb8-a77a-a7445532b86b",
   "metadata": {},
   "outputs": [
    {
     "name": "stdout",
     "output_type": "stream",
     "text": [
      "{1, 2, 3, 4, 5}\n",
      "add new element: {1, 2, 3, 4, 5, 6}\n"
     ]
    }
   ],
   "source": [
    "my_set = {1,2,3,4,5}\n",
    "print(my_set)\n",
    "element_add = 6\n",
    "my_set.add(element_add)\n",
    "print(\"add new element:\",my_set)"
   ]
  },
  {
   "cell_type": "markdown",
   "id": "512e4097-d77d-439b-b8e3-75ebc431c18e",
   "metadata": {},
   "source": [
    "## 3. Remove an element from a set."
   ]
  },
  {
   "cell_type": "code",
   "execution_count": 5,
   "id": "cae18928-ad92-406e-aa60-e22521b2b2d0",
   "metadata": {},
   "outputs": [
    {
     "name": "stdout",
     "output_type": "stream",
     "text": [
      "{1, 2, 3, 4, 5}\n",
      "remove new element: {1, 2, 3, 5}\n"
     ]
    }
   ],
   "source": [
    "my_set = {1,2,3,4,5}\n",
    "print(my_set)\n",
    "element_remove = 4\n",
    "my_set.remove(element_remove)\n",
    "print(\"remove new element:\",my_set)"
   ]
  },
  {
   "cell_type": "markdown",
   "id": "20181244-1dcb-40ae-832b-72e0fc56f5b4",
   "metadata": {},
   "source": [
    "## 4. Check if an element exists in a set."
   ]
  },
  {
   "cell_type": "code",
   "execution_count": 9,
   "id": "8adcaa70-4b80-448b-8ad3-8912dfad3016",
   "metadata": {},
   "outputs": [
    {
     "name": "stdin",
     "output_type": "stream",
     "text": [
      "enter the element to cleck: 5\n"
     ]
    },
    {
     "name": "stdout",
     "output_type": "stream",
     "text": [
      "5 does not exists in set\n"
     ]
    }
   ],
   "source": [
    "my_set ={1,2,3,4,4,6,8,9}\n",
    "element_to_check = int(input(\"enter the element to cleck:\"))\n",
    "if element_to_check in my_set:\n",
    "    print(f\"{element_to_check} exists in set\")\n",
    "else:\n",
    "    print(f\"{element_to_check} does not exists in set\")\n",
    "                       "
   ]
  },
  {
   "cell_type": "markdown",
   "id": "47e7dc1b-b382-48f7-ab96-bb089370ce33",
   "metadata": {},
   "source": [
    "## 5. Find the length of a set without using the `len()` function."
   ]
  },
  {
   "cell_type": "code",
   "execution_count": 15,
   "id": "07e127b6-d365-49b2-9c3d-4caa764a0dba",
   "metadata": {},
   "outputs": [
    {
     "name": "stdout",
     "output_type": "stream",
     "text": [
      "length of the set: 7\n"
     ]
    }
   ],
   "source": [
    "my_set={1,2,3,4,5,6,7}\n",
    "count=0\n",
    "for i in my_set:\n",
    "    count+=1\n",
    "print(\"length of the set:\",count)    "
   ]
  },
  {
   "cell_type": "markdown",
   "id": "daa8f2d3-8f90-49d5-8034-4bc32d1c52f3",
   "metadata": {},
   "source": [
    "## 6. Clear all elements from a set."
   ]
  },
  {
   "cell_type": "code",
   "execution_count": 16,
   "id": "e9a14349-583b-4794-856b-f87afcbb757b",
   "metadata": {},
   "outputs": [
    {
     "name": "stdout",
     "output_type": "stream",
     "text": [
      "orginal set: {1, 2, 3, 4, 5, 6, 7}\n",
      "set after clearing: set()\n"
     ]
    }
   ],
   "source": [
    "my_set={1,2,3,4,5,6,7}\n",
    "print(\"orginal set:\",my_set)\n",
    "my_set.clear()\n",
    "print(\"set after clearing:\",my_set)"
   ]
  },
  {
   "cell_type": "markdown",
   "id": "86e32d4f-c89d-4503-b96a-900050ef2145",
   "metadata": {},
   "source": [
    "## 7. Create a set of even numbers from 1 to 10."
   ]
  },
  {
   "cell_type": "code",
   "execution_count": 17,
   "id": "9f65fb10-718b-455e-a7de-a780e5680c69",
   "metadata": {},
   "outputs": [
    {
     "name": "stdout",
     "output_type": "stream",
     "text": [
      "{2, 4, 6, 8, 10}\n"
     ]
    }
   ],
   "source": [
    "even_numbers_set = set()\n",
    "for i in range(1,11):\n",
    "    if i % 2 == 0:\n",
    "        even_numbers_set.add(i)\n",
    "print(even_numbers_set)        "
   ]
  },
  {
   "cell_type": "markdown",
   "id": "6e900928-1724-4b7d-9e18-4ef200243d74",
   "metadata": {},
   "source": [
    "## 8. Create a set of odd numbers from 1 to 10."
   ]
  },
  {
   "cell_type": "code",
   "execution_count": 19,
   "id": "d3b1be98-7e44-4330-8840-5507a2c3cc4f",
   "metadata": {},
   "outputs": [
    {
     "name": "stdout",
     "output_type": "stream",
     "text": [
      "{1, 3, 5, 7, 9}\n"
     ]
    }
   ],
   "source": [
    "odd_numbers_set = set()\n",
    "for i in range(1,11):\n",
    "    if i % 2 == 1:\n",
    "        odd_numbers_set.add(i)\n",
    "print(odd_numbers_set)        "
   ]
  },
  {
   "cell_type": "markdown",
   "id": "d1713a3b-caf1-4f44-8f40-82c900a6b488",
   "metadata": {},
   "source": [
    "## 9. Find the union of two sets."
   ]
  },
  {
   "cell_type": "code",
   "execution_count": 20,
   "id": "3982bae8-8849-4d56-b540-9d34a54b1175",
   "metadata": {},
   "outputs": [
    {
     "name": "stdout",
     "output_type": "stream",
     "text": [
      "set1: {1, 2, 3, 4}\n",
      "set2: {2, 4, 5, 6}\n",
      "Union of Set 1 and Set 2: {1, 2, 3, 4, 5, 6}\n"
     ]
    }
   ],
   "source": [
    "set1={1,2,3,4}\n",
    "set2={4,5,6,2}\n",
    "union_result = set1.union(set2)\n",
    "print(\"set1:\",set1)\n",
    "print(\"set2:\",set2)\n",
    "print(\"Union of Set 1 and Set 2:\", union_result)"
   ]
  },
  {
   "cell_type": "markdown",
   "id": "0275595b-50c5-4cff-99c4-237916c43976",
   "metadata": {},
   "source": [
    "## 10. Find the intersection of two sets."
   ]
  },
  {
   "cell_type": "code",
   "execution_count": 21,
   "id": "15bd2c87-8b7e-4469-9ab4-5fbc4064e21f",
   "metadata": {},
   "outputs": [
    {
     "name": "stdout",
     "output_type": "stream",
     "text": [
      "set1: {1, 2, 3, 4}\n",
      "set2: {2, 4, 5, 6}\n",
      "intersection of Set 1 and Set 2: {2, 4}\n"
     ]
    }
   ],
   "source": [
    "set1={1,2,3,4}\n",
    "set2={4,5,6,2}\n",
    "intersection_result = set1.intersection(set2)\n",
    "print(\"set1:\",set1)\n",
    "print(\"set2:\",set2)\n",
    "print(\"intersection of Set 1 and Set 2:\", intersection_result)"
   ]
  },
  {
   "cell_type": "markdown",
   "id": "6d8f3d7f-1d91-4d14-a01b-37358ce73910",
   "metadata": {},
   "source": [
    "## 11. Find the difference between two sets."
   ]
  },
  {
   "cell_type": "code",
   "execution_count": 22,
   "id": "c04820dc-389a-4424-ae7b-e1ea7eb935e3",
   "metadata": {},
   "outputs": [
    {
     "name": "stdout",
     "output_type": "stream",
     "text": [
      "set1: {1, 2, 3, 4}\n",
      "set2: {2, 4, 5, 6}\n",
      "difference of Set 1 and Set 2: {1, 3}\n"
     ]
    }
   ],
   "source": [
    "set1={1,2,3,4}\n",
    "set2={4,5,6,2}\n",
    "difference_result = set1.difference(set2)\n",
    "print(\"set1:\",set1)\n",
    "print(\"set2:\",set2)\n",
    "print(\"difference of Set 1 and Set 2:\", difference_result)"
   ]
  },
  {
   "cell_type": "markdown",
   "id": "9c77889a-c8e4-4b0a-9529-156623269d84",
   "metadata": {},
   "source": [
    "## 12. Check if a set is a subset of another set."
   ]
  },
  {
   "cell_type": "code",
   "execution_count": 26,
   "id": "2cd4bb1c-178c-46fe-8055-a9b2494abc09",
   "metadata": {},
   "outputs": [
    {
     "name": "stdout",
     "output_type": "stream",
     "text": [
      "Is set1 a subset of set2: True\n"
     ]
    }
   ],
   "source": [
    "set1 = {1, 2, 3}\n",
    "set2 = {1, 2, 3, 4, 5}\n",
    "is_subset = set1.issubset(set2)\n",
    "print(\"Is set1 a subset of set2:\", is_subset)"
   ]
  },
  {
   "cell_type": "markdown",
   "id": "64ee02a2-17b3-4677-90f8-1eb35e9566c2",
   "metadata": {},
   "source": [
    "## 13. Check if a set is a superset of another set."
   ]
  },
  {
   "cell_type": "code",
   "execution_count": 27,
   "id": "7ff70919-2870-4d9d-a571-0bad834feb20",
   "metadata": {},
   "outputs": [
    {
     "name": "stdout",
     "output_type": "stream",
     "text": [
      "set1 is not a superset of set2\n"
     ]
    }
   ],
   "source": [
    "et1 = {1, 2, 3, 4, 5, 6}\n",
    "set2 = {3, 4}\n",
    "is_superset = set1.issuperset(set2)\n",
    "if is_superset:\n",
    "    print(\"set1 is a superset of set2\")\n",
    "else:\n",
    "    print(\"set1 is not a superset of set2\")"
   ]
  },
  {
   "cell_type": "markdown",
   "id": "f9ad6de2-2944-4eb5-98bb-86a913439c62",
   "metadata": {},
   "source": [
    "## 14. Create a set from a list."
   ]
  },
  {
   "cell_type": "code",
   "execution_count": 28,
   "id": "1ad1e5b7-70a2-4158-bb35-8a51eb50f02d",
   "metadata": {},
   "outputs": [
    {
     "name": "stdout",
     "output_type": "stream",
     "text": [
      "Original List: [2, 4, 1, 4, 3, 2, 5]\n",
      "Set from List: {1, 2, 3, 4, 5}\n"
     ]
    }
   ],
   "source": [
    "my_list = [2, 4, 1, 4, 3, 2, 5]\n",
    "my_set = set(my_list)\n",
    "print(\"Original List:\", my_list)\n",
    "print(\"Set from List:\", my_set)"
   ]
  },
  {
   "cell_type": "markdown",
   "id": "c452d42b-3195-448e-878b-2d502af90aca",
   "metadata": {},
   "source": [
    "## 15. Convert a set to a list."
   ]
  },
  {
   "cell_type": "code",
   "execution_count": 29,
   "id": "9e584b9f-8f68-4e9a-9f00-46637dfbc976",
   "metadata": {},
   "outputs": [
    {
     "name": "stdout",
     "output_type": "stream",
     "text": [
      "Original Set: {1, 2, 3, 4, 5, 6, 9}\n",
      "Converted List: [1, 2, 3, 4, 5, 6, 9]\n"
     ]
    }
   ],
   "source": [
    "my_set = {3, 1, 4, 1, 5, 9, 2, 6, 5}\n",
    "my_list = list(my_set)\n",
    "print(\"Original Set:\", my_set)\n",
    "print(\"Converted List:\", my_list)"
   ]
  },
  {
   "cell_type": "markdown",
   "id": "d0a3444a-b645-4971-af09-deb6499d5157",
   "metadata": {},
   "source": [
    "## 16. Remove a random element from a set."
   ]
  },
  {
   "cell_type": "code",
   "execution_count": 13,
   "id": "6ddf2f43-86a4-47f6-ba06-c20016766c61",
   "metadata": {},
   "outputs": [
    {
     "name": "stdout",
     "output_type": "stream",
     "text": [
      "Original set: {1, 2, 3, 4, 5}\n",
      "Updated set after removing 4 : {1, 2, 3, 5}\n"
     ]
    }
   ],
   "source": [
    "import random\n",
    "my_set = {1, 2, 3, 4, 5}\n",
    "print(\"Original set:\", my_set)\n",
    "random_element = random.choice(list(my_set))\n",
    "my_set.remove(random_element)\n",
    "print(\"Updated set after removing\", random_element, \":\", my_set)"
   ]
  },
  {
   "cell_type": "markdown",
   "id": "a3aa5f78-84d3-435e-9652-3ecf22fb63ce",
   "metadata": {},
   "source": [
    "## 17. Pop an element from a set."
   ]
  },
  {
   "cell_type": "code",
   "execution_count": 3,
   "id": "513dc04c-f96c-470d-988b-78b4f6b438a0",
   "metadata": {},
   "outputs": [
    {
     "name": "stdout",
     "output_type": "stream",
     "text": [
      "Original set: {1, 2, 3, 4, 5}\n",
      "Popped element: 1\n",
      "Set after popping: {2, 3, 4, 5}\n"
     ]
    }
   ],
   "source": [
    "my_set = {1, 2, 3, 4, 5}\n",
    "print(\"Original set:\", my_set)\n",
    "popped_element = my_set.pop()\n",
    "print(\"Popped element:\", popped_element)\n",
    "print(\"Set after popping:\", my_set)"
   ]
  },
  {
   "cell_type": "markdown",
   "id": "b12bbb96-69af-4df9-b955-dbea2f1391d6",
   "metadata": {},
   "source": [
    "## 18. Check if two sets have no elements in common."
   ]
  },
  {
   "cell_type": "code",
   "execution_count": 4,
   "id": "33f133ee-ce93-4ce0-9d23-7749043a36e0",
   "metadata": {},
   "outputs": [
    {
     "name": "stdout",
     "output_type": "stream",
     "text": [
      "The two sets have no elements in common.\n"
     ]
    }
   ],
   "source": [
    "set1 = {1, 2, 3, 4}\n",
    "set2 = {5, 6, 7, 8}\n",
    "\n",
    "common_elements = set1.intersection(set2)\n",
    "if not common_elements:\n",
    "    print(\"The two sets have no elements in common.\")\n",
    "else:\n",
    "    print(\"The two sets have common elements:\", common_elements)"
   ]
  },
  {
   "cell_type": "markdown",
   "id": "5d15a797-bfee-4b6f-bcb3-9c05c0bff8fe",
   "metadata": {},
   "source": [
    "## 19. Find the symmetric difference between two sets."
   ]
  },
  {
   "cell_type": "code",
   "execution_count": 5,
   "id": "7eaa1c72-beef-426d-898d-e119d39a51b9",
   "metadata": {},
   "outputs": [
    {
     "name": "stdout",
     "output_type": "stream",
     "text": [
      "Symmetric Difference: {1, 2, 3, 6, 7, 8}\n"
     ]
    }
   ],
   "source": [
    "set1 = {1, 2, 3, 4, 5}\n",
    "set2 = {4, 5, 6, 7, 8}\n",
    "symmetric_difference = set1 ^ set2\n",
    "print(\"Symmetric Difference:\", symmetric_difference)"
   ]
  },
  {
   "cell_type": "markdown",
   "id": "b4607b81-5efe-42ef-81b6-11548f3755f7",
   "metadata": {},
   "source": [
    "## 20. Update a set with elements from another set."
   ]
  },
  {
   "cell_type": "code",
   "execution_count": 6,
   "id": "4f44493d-94ff-4cff-bc02-96365973a7b0",
   "metadata": {},
   "outputs": [
    {
     "name": "stdout",
     "output_type": "stream",
     "text": [
      "Set 1: {1, 2, 3}\n",
      "Set 2: {3, 4, 5}\n",
      "Updated Set 1: {1, 2, 3, 4, 5}\n"
     ]
    }
   ],
   "source": [
    "set1 = {1, 2, 3}\n",
    "print(\"Set 1:\", set1)\n",
    "\n",
    "set2 = {3, 4, 5}\n",
    "print(\"Set 2:\", set2)\n",
    "set1.update(set2)\n",
    "print(\"Updated Set 1:\", set1)"
   ]
  },
  {
   "cell_type": "markdown",
   "id": "7c235fed-2457-45d5-891a-725a688b4caf",
   "metadata": {},
   "source": [
    "## 21. Create a set of the first 5 prime numbers."
   ]
  },
  {
   "cell_type": "code",
   "execution_count": 7,
   "id": "6ffe72d0-ec4f-4bee-b44d-00d2bc8ebef2",
   "metadata": {},
   "outputs": [
    {
     "name": "stdout",
     "output_type": "stream",
     "text": [
      "Set of the first 5 prime numbers: {2, 3, 5, 7, 11}\n"
     ]
    }
   ],
   "source": [
    "def is_prime(num):\n",
    "    if num <= 1:\n",
    "        return False\n",
    "    for i in range(2, int(num ** 0.5) + 1):\n",
    "        if num % i == 0:\n",
    "            return False\n",
    "    return True\n",
    "\n",
    "prime_set = set()\n",
    "\n",
    "num = 2\n",
    "\n",
    "while len(prime_set) < 5:\n",
    "\n",
    "    if is_prime(num):\n",
    "        \n",
    "        prime_set.add(num)\n",
    "    num += 1\n",
    "print(\"Set of the first 5 prime numbers:\", prime_set)"
   ]
  },
  {
   "cell_type": "markdown",
   "id": "384d2f8e-eda1-4efb-8f70-d8557a8e39e9",
   "metadata": {},
   "source": [
    "## 22. Check if two sets are identical."
   ]
  },
  {
   "cell_type": "code",
   "execution_count": 8,
   "id": "f719269a-b7fd-4c40-b82b-83ab7a028fac",
   "metadata": {},
   "outputs": [
    {
     "name": "stdout",
     "output_type": "stream",
     "text": [
      "The sets are identical.\n"
     ]
    }
   ],
   "source": [
    "set1 = {1, 2, 3, 4, 5}\n",
    "set2 = {3, 1, 5, 2, 4}  \n",
    "if set1 == set2:\n",
    "    print(\"The sets are identical.\")\n",
    "else:\n",
    "    print(\"The sets are not identical.\")"
   ]
  },
  {
   "cell_type": "markdown",
   "id": "c0ef1077-5169-4256-90f5-7b1f1aecb2d6",
   "metadata": {},
   "source": [
    "## 23. Create a frozen set."
   ]
  },
  {
   "cell_type": "code",
   "execution_count": 9,
   "id": "863a0a8b-1732-456b-a609-c7a5f816daa4",
   "metadata": {},
   "outputs": [
    {
     "name": "stdout",
     "output_type": "stream",
     "text": [
      "Frozen Set: frozenset({1, 2, 3, 4, 5})\n"
     ]
    }
   ],
   "source": [
    "elements = [1, 2, 3, 4, 5]\n",
    "my_frozen_set = frozenset(elements)\n",
    "print(\"Frozen Set:\", my_frozen_set)"
   ]
  },
  {
   "cell_type": "markdown",
   "id": "da6dba73-eb83-4ce8-b72a-620bd86a1844",
   "metadata": {},
   "source": [
    "## 24. Check if a set is disjoint with another set."
   ]
  },
  {
   "cell_type": "code",
   "execution_count": 10,
   "id": "0576393f-4f0a-45b3-8559-5f34fa3b7d1a",
   "metadata": {},
   "outputs": [
    {
     "name": "stdout",
     "output_type": "stream",
     "text": [
      "Are the sets disjoint? True\n"
     ]
    }
   ],
   "source": [
    "set1 = {1, 2, 3, 4}\n",
    "set2 = {5, 6, 7, 8}\n",
    "disjoint_status = set1.isdisjoint(set2)\n",
    "print(\"Are the sets disjoint?\", disjoint_status)"
   ]
  },
  {
   "cell_type": "markdown",
   "id": "1e8a7c37-abfb-437f-b8be-c2be5fd4d06a",
   "metadata": {},
   "source": [
    "## 25. Create a set of squares of numbers from 1 to 5."
   ]
  },
  {
   "cell_type": "code",
   "execution_count": 11,
   "id": "34f6dff7-f7f0-45ad-9ac2-c2ad101e9ddf",
   "metadata": {},
   "outputs": [
    {
     "name": "stdout",
     "output_type": "stream",
     "text": [
      "{1, 4, 9, 16, 25}\n"
     ]
    }
   ],
   "source": [
    "squares_set = set()\n",
    "for num in range(1, 6):\n",
    "    square = num ** 2\n",
    "    squares_set.add(square)\n",
    "print(squares_set)"
   ]
  },
  {
   "cell_type": "markdown",
   "id": "a6664837-5b94-4c6b-874f-5cdd8514bafe",
   "metadata": {},
   "source": [
    "## 26. Filter out all even numbers from a set."
   ]
  },
  {
   "cell_type": "code",
   "execution_count": 14,
   "id": "f8971529-3d88-4e07-bb5b-6a4db20658f2",
   "metadata": {},
   "outputs": [
    {
     "name": "stdout",
     "output_type": "stream",
     "text": [
      "Original Set: {1, 2, 3, 4, 5}\n",
      "Even Numbers Set: {2, 4}\n"
     ]
    }
   ],
   "source": [
    "original_set = {1, 2, 3, 4, 5}\n",
    "even_numbers_set = set()\n",
    "for num in original_set:\n",
    "    if num % 2 == 0:\n",
    "        even_numbers_set.add(num)\n",
    "print(\"Original Set:\", original_set)\n",
    "print(\"Even Numbers Set:\", even_numbers_set)"
   ]
  },
  {
   "cell_type": "markdown",
   "id": "8b64a691-97ff-4030-a0fb-1990843c393d",
   "metadata": {},
   "source": [
    "## 27. Multiply all elements in a set by 2."
   ]
  },
  {
   "cell_type": "code",
   "execution_count": 15,
   "id": "cc1e5fc6-b99b-432f-80d3-8425125dc0c8",
   "metadata": {},
   "outputs": [
    {
     "name": "stdout",
     "output_type": "stream",
     "text": [
      "Original Set: {1, 2, 3, 4, 5}\n",
      "Multiplied Set: {2, 4, 6, 8, 10}\n"
     ]
    }
   ],
   "source": [
    "original_set = {1, 2, 3, 4, 5}\n",
    "multiplied_set = set()\n",
    "for num in original_set:\n",
    "    multiplied_num = num * 2\n",
    "    multiplied_set.add(multiplied_num)\n",
    "print(\"Original Set:\", original_set)\n",
    "print(\"Multiplied Set:\", multiplied_set)"
   ]
  },
  {
   "cell_type": "markdown",
   "id": "d5fc7b83-2ea7-4ac3-84c1-052cfae1d726",
   "metadata": {},
   "source": [
    "## 28. Create a set of random numbers."
   ]
  },
  {
   "cell_type": "code",
   "execution_count": 17,
   "id": "3f3f9b34-639d-4755-a829-bcd6bde7e3bd",
   "metadata": {},
   "outputs": [
    {
     "name": "stdout",
     "output_type": "stream",
     "text": [
      "Generated set of random numbers: {98, 34, 68, 9, 15}\n"
     ]
    }
   ],
   "source": [
    "import random\n",
    "num_random_numbers = 5\n",
    "random_number_set = set()\n",
    "for _ in range(num_random_numbers):\n",
    "    random_num = random.randint(1, 100)  \n",
    "    random_number_set.add(random_num)\n",
    "print(\"Generated set of random numbers:\", random_number_set)"
   ]
  },
  {
   "cell_type": "markdown",
   "id": "4ad27ff9-c1c7-4f9b-b737-9c25d09a9ac0",
   "metadata": {},
   "source": [
    "## 29. Check if a set is empty."
   ]
  },
  {
   "cell_type": "code",
   "execution_count": 18,
   "id": "4277c386-98b5-45bf-a565-7f69d77a3d0e",
   "metadata": {},
   "outputs": [
    {
     "name": "stdout",
     "output_type": "stream",
     "text": [
      "The set is empty.\n"
     ]
    }
   ],
   "source": [
    "my_set = set()\n",
    "if not my_set:\n",
    "    print(\"The set is empty.\")\n",
    "else:\n",
    "    print(\"The set is not empty.\")"
   ]
  },
  {
   "cell_type": "markdown",
   "id": "f429b981-b0d8-4bd2-b6f6-a7feb0573121",
   "metadata": {},
   "source": [
    "## 30. Create a nested set (hint: use frozenset)."
   ]
  },
  {
   "cell_type": "code",
   "execution_count": 19,
   "id": "7df4ec24-dc8c-4c77-9d37-0c6ec4884512",
   "metadata": {},
   "outputs": [
    {
     "name": "stdout",
     "output_type": "stream",
     "text": [
      "Nested Set: {frozenset({1, 2, 3, 4, 5}), frozenset({6, 7, 8, 9, 10})}\n"
     ]
    }
   ],
   "source": [
    "set1 = {1, 2, 3, 4, 5}\n",
    "set2 = {6, 7, 8, 9, 10}\n",
    "frozen_set1 = frozenset(set1)\n",
    "frozen_set2 = frozenset(set2)\n",
    "nested_set = {frozen_set1, frozen_set2}\n",
    "print(\"Nested Set:\", nested_set)"
   ]
  },
  {
   "cell_type": "markdown",
   "id": "be1f15eb-f60b-48ed-a24e-3ee6d7cb6104",
   "metadata": {},
   "source": [
    "## 31. Remove an element from a set using the discard method."
   ]
  },
  {
   "cell_type": "code",
   "execution_count": 20,
   "id": "1bb1dba2-c4ed-4b8d-b494-037c7ef57ff4",
   "metadata": {},
   "outputs": [
    {
     "name": "stdout",
     "output_type": "stream",
     "text": [
      "Initial set: {1, 2, 3, 4, 5}\n",
      "Set after removing 3 : {1, 2, 4, 5}\n"
     ]
    }
   ],
   "source": [
    "my_set = {1, 2, 3, 4, 5}\n",
    "print(\"Initial set:\", my_set)\n",
    "element_to_remove = 3\n",
    "my_set.discard(element_to_remove)\n",
    "print(\"Set after removing\", element_to_remove, \":\", my_set)"
   ]
  },
  {
   "cell_type": "markdown",
   "id": "e8732876-dc10-41bb-ab1e-04e995118419",
   "metadata": {},
   "source": [
    "## 32. Compare two sets."
   ]
  },
  {
   "cell_type": "code",
   "execution_count": 21,
   "id": "a962b469-3bd3-41bb-a737-325a211e0413",
   "metadata": {},
   "outputs": [
    {
     "name": "stdout",
     "output_type": "stream",
     "text": [
      "Set 1: {1, 2, 3, 4, 5}\n",
      "Set 2: {4, 5, 6, 7, 8}\n",
      "Is set1 a subset of set2? False\n",
      "Is set2 a subset of set1? False\n",
      "Intersection: {4, 5}\n",
      "Union: {1, 2, 3, 4, 5, 6, 7, 8}\n",
      "Elements in set1 but not in set2: {1, 2, 3}\n",
      "Elements in set2 but not in set1: {8, 6, 7}\n"
     ]
    }
   ],
   "source": [
    "set1 = {1, 2, 3, 4, 5}\n",
    "set2 = {4, 5, 6, 7, 8}\n",
    "\n",
    "is_subset = set1.issubset(set2)\n",
    "\n",
    "is_superset = set1.issuperset(set2)\n",
    "\n",
    "\n",
    "intersection = set1.intersection(set2)\n",
    "\n",
    "union = set1.union(set2)\n",
    "\n",
    "difference1 = set1.difference(set2)\n",
    "\n",
    "difference2 = set2.difference(set1)\n",
    "\n",
    "print(\"Set 1:\", set1)\n",
    "print(\"Set 2:\", set2)\n",
    "print(\"Is set1 a subset of set2?\", is_subset)\n",
    "print(\"Is set2 a subset of set1?\", is_superset)\n",
    "print(\"Intersection:\", intersection)\n",
    "print(\"Union:\", union)\n",
    "print(\"Elements in set1 but not in set2:\", difference1)\n",
    "print(\"Elements in set2 but not in set1:\", difference2)"
   ]
  },
  {
   "cell_type": "markdown",
   "id": "487a9b2e-b2f1-49fc-98f8-e6cd099bcf9e",
   "metadata": {},
   "source": [
    "## 33. Create a set from a string."
   ]
  },
  {
   "cell_type": "code",
   "execution_count": 22,
   "id": "773f1e51-503f-40ee-8976-9b03b4fa13fa",
   "metadata": {},
   "outputs": [
    {
     "name": "stdout",
     "output_type": "stream",
     "text": [
      "{'o', 'h', 'e', 'l'}\n"
     ]
    }
   ],
   "source": [
    "input_string = \"hello\"\n",
    "char_set = set(input_string)\n",
    "print(char_set)"
   ]
  },
  {
   "cell_type": "markdown",
   "id": "3ff1d26f-831d-45f8-bf2e-27e35681d42a",
   "metadata": {},
   "source": [
    "## 34. Convert a set of strings to a set of integers."
   ]
  },
  {
   "cell_type": "code",
   "execution_count": 24,
   "id": "e89f3810-8e28-4a1e-a35a-ca814e41f5e6",
   "metadata": {},
   "outputs": [
    {
     "name": "stdout",
     "output_type": "stream",
     "text": [
      "Original String Set: {'214', '143', '251'}\n",
      "Converted Integer Set: {251, 214, 143}\n"
     ]
    }
   ],
   "source": [
    "string_set = {\"143\", \"214\", \"251\"}\n",
    "integer_set = set()\n",
    "for string in string_set:\n",
    "    integer_value = int(string)\n",
    "    integer_set.add(integer_value)\n",
    "print(\"Original String Set:\", string_set)\n",
    "print(\"Converted Integer Set:\", integer_set)"
   ]
  },
  {
   "cell_type": "markdown",
   "id": "95a7b830-354c-4de1-8c61-3d14fd9daac6",
   "metadata": {},
   "source": [
    "## 35. Convert a set of integers to a set of strings."
   ]
  },
  {
   "cell_type": "code",
   "execution_count": 26,
   "id": "67a5f647-4d68-47e3-a8c8-6a13b1a2023c",
   "metadata": {},
   "outputs": [
    {
     "name": "stdout",
     "output_type": "stream",
     "text": [
      "Original integers_set: {1, 2, 3, 4, 5}\n",
      "Converted strings_set: {'1', '5', '2', '4', '3'}\n"
     ]
    }
   ],
   "source": [
    "integers_set = {1, 2, 3, 4, 5}\n",
    "strings_set = set()\n",
    "for num in integers_set:\n",
    "    num_str = str(num)\n",
    "    strings_set.add(num_str)\n",
    "print(\"Original integers_set:\", integers_set)\n",
    "print(\"Converted strings_set:\", strings_set)"
   ]
  },
  {
   "cell_type": "markdown",
   "id": "afe6339c-23c0-48e8-89ca-309f542e8642",
   "metadata": {},
   "source": [
    "## 36. Create a set from a tuple."
   ]
  },
  {
   "cell_type": "code",
   "execution_count": 48,
   "id": "39697098-85fa-4352-9743-76b0bce3f828",
   "metadata": {},
   "outputs": [
    {
     "name": "stdout",
     "output_type": "stream",
     "text": [
      "{1, 2, 3, 4, 5}\n"
     ]
    }
   ],
   "source": [
    "input_tuple = (1, 2, 3, 2, 4, 5, 1)\n",
    "output_set = set(input_tuple)\n",
    "print(output_set)"
   ]
  },
  {
   "cell_type": "markdown",
   "id": "18ffb6a8-4f85-441e-9334-30ca5c11b6d1",
   "metadata": {},
   "source": [
    "## 37. Convert a set to a tuple."
   ]
  },
  {
   "cell_type": "code",
   "execution_count": 47,
   "id": "5fb9eac5-820f-400d-9e15-b846cb5a7390",
   "metadata": {},
   "outputs": [
    {
     "name": "stdout",
     "output_type": "stream",
     "text": [
      "Original set: {1, 2, 3, 4, 5}\n",
      "Converted tuple: (1, 2, 3, 4, 5)\n"
     ]
    }
   ],
   "source": [
    "input_set = {1, 2, 3, 4, 5}\n",
    "output_tuple = tuple(input_set)\n",
    "print(\"Original set:\", input_set)\n",
    "print(\"Converted tuple:\", output_tuple)"
   ]
  },
  {
   "cell_type": "markdown",
   "id": "38daf992-c35e-49c5-93a6-0baa4c2ac521",
   "metadata": {},
   "source": [
    "## 38. Find the maximum value in a set."
   ]
  },
  {
   "cell_type": "code",
   "execution_count": 44,
   "id": "dd751d8c-944a-41dc-8a75-a20d26111153",
   "metadata": {},
   "outputs": [
    {
     "name": "stdout",
     "output_type": "stream",
     "text": [
      "Maximum value: 132\n"
     ]
    }
   ],
   "source": [
    "my_set = {14, 6, 55, 132, 82}\n",
    "max_value = None\n",
    "for num in my_set:\n",
    "    if max_value is None or num > max_value:\n",
    "        max_value = num  \n",
    "print(\"Maximum value:\", max_value)"
   ]
  },
  {
   "cell_type": "markdown",
   "id": "540865b4-9f9f-407e-8210-d3e746578c64",
   "metadata": {},
   "source": [
    "## 39. Find the minimum value in a set."
   ]
  },
  {
   "cell_type": "code",
   "execution_count": 45,
   "id": "b0f04b6e-aecd-4f43-9b5d-c93ee272430f",
   "metadata": {},
   "outputs": [
    {
     "name": "stdout",
     "output_type": "stream",
     "text": [
      "The minimum value in the set is: 6\n"
     ]
    }
   ],
   "source": [
    "number_set = {14, 6, 55, 132, 82}\n",
    "min_value = None\n",
    "for num in number_set:\n",
    "    if min_value is None or num < min_value:\n",
    "        min_value = num\n",
    "print(\"The minimum value in the set is:\", min_value)"
   ]
  },
  {
   "cell_type": "markdown",
   "id": "ee5eb3b5-d4df-4f0e-93ad-c9e43363553e",
   "metadata": {},
   "source": [
    "## 40. Create a set from user input."
   ]
  },
  {
   "cell_type": "code",
   "execution_count": 46,
   "id": "98776549-ad33-424a-a9a4-0499fec7c83b",
   "metadata": {},
   "outputs": [
    {
     "name": "stdout",
     "output_type": "stream",
     "text": [
      "Enter elements for the set (type 'done' to finish):\n"
     ]
    },
    {
     "name": "stdin",
     "output_type": "stream",
     "text": [
      ">  pwskills\n",
      ">  python\n",
      ">  saikrishna\n",
      ">  done\n"
     ]
    },
    {
     "name": "stdout",
     "output_type": "stream",
     "text": [
      "Final set: {'saikrishna', 'pwskills', 'python'}\n"
     ]
    }
   ],
   "source": [
    "user_set = set()\n",
    "print(\"Enter elements for the set (type 'done' to finish):\")\n",
    "while True:\n",
    "    user_input = input(\"> \") \n",
    "\n",
    "    if user_input.lower() == 'done':\n",
    "        break  \n",
    "    user_set.add(user_input)\n",
    "print(\"Final set:\", user_set)"
   ]
  },
  {
   "cell_type": "markdown",
   "id": "e915bb07-622c-497a-ba82-6f946b30d897",
   "metadata": {},
   "source": [
    "## 41. Check if the intersection of two sets is empty."
   ]
  },
  {
   "cell_type": "code",
   "execution_count": 39,
   "id": "eadd1aa7-7fce-4a79-b497-d209f14969d5",
   "metadata": {},
   "outputs": [
    {
     "name": "stdout",
     "output_type": "stream",
     "text": [
      "The intersection of the two sets is not empty.\n"
     ]
    }
   ],
   "source": [
    "set1 = {1, 2, 3, 4, 5}\n",
    "set2 = {4, 5, 6, 7, 8}\n",
    "intersection_result = set1.intersection(set2)\n",
    "if not intersection_result:\n",
    "    print(\"The intersection of the two sets is empty.\")\n",
    "else:\n",
    "    print(\"The intersection of the two sets is not empty.\")"
   ]
  },
  {
   "cell_type": "markdown",
   "id": "8664c189-cfe9-483e-aa6e-01c39c2834d5",
   "metadata": {},
   "source": [
    "## 42. Create a set of the first 5 Fibonacci numbers."
   ]
  },
  {
   "cell_type": "code",
   "execution_count": 38,
   "id": "24d79900-e2a3-4d9a-9e45-13267478ac0c",
   "metadata": {},
   "outputs": [
    {
     "name": "stdout",
     "output_type": "stream",
     "text": [
      "Set of the first 5 Fibonacci numbers: {0, 1, 2, 3, 5}\n"
     ]
    }
   ],
   "source": [
    "fibonacci_set = set()\n",
    "a, b = 0, 1\n",
    "for _ in range(6):\n",
    "    fibonacci_set.add(a)\n",
    "    a, b = b, a + b\n",
    "print(\"Set of the first 5 Fibonacci numbers:\", fibonacci_set)"
   ]
  },
  {
   "cell_type": "markdown",
   "id": "e5063127-48c5-4706-9648-a052eedacde0",
   "metadata": {},
   "source": [
    "## 43. Remove duplicates from a list using sets."
   ]
  },
  {
   "cell_type": "code",
   "execution_count": 37,
   "id": "d38647e0-20f2-4a84-8f3f-be5faf637046",
   "metadata": {},
   "outputs": [
    {
     "name": "stdout",
     "output_type": "stream",
     "text": [
      "Original List: [2, 4, 6, 8, 4, 10, 6, 12, 14, 8]\n",
      "List with Duplicates Removed: [2, 4, 6, 8, 10, 12, 14]\n"
     ]
    }
   ],
   "source": [
    "original_list = [2, 4, 6, 8, 4, 10, 6, 12, 14, 8]\n",
    "unique_set = set(original_list)\n",
    "unique_list = list(unique_set)\n",
    "print(\"Original List:\", original_list)\n",
    "print(\"List with Duplicates Removed:\", unique_list)"
   ]
  },
  {
   "cell_type": "markdown",
   "id": "508c9718-c47e-4a40-b9b2-973db4020849",
   "metadata": {},
   "source": [
    "## 44. Check if two sets have the same elements, regardless of their count."
   ]
  },
  {
   "cell_type": "code",
   "execution_count": 36,
   "id": "14e5918d-4315-44a7-baba-f08a1d9bf61e",
   "metadata": {},
   "outputs": [
    {
     "name": "stdout",
     "output_type": "stream",
     "text": [
      "The sets have the same elements.\n"
     ]
    }
   ],
   "source": [
    "def have_same_elements(set1, set2):\n",
    "    sorted_list1 = sorted(list(set1))\n",
    "    sorted_list2 = sorted(list(set2))\n",
    "    return sorted_list1 == sorted_list2\n",
    "set1 = {1, 2, 3, 2, 1}\n",
    "set2 = {3, 1, 2}\n",
    "result = have_same_elements(set1, set2)\n",
    "if result:\n",
    "    print(\"The sets have the same elements.\")\n",
    "else:\n",
    "    print(\"The sets do not have the same elements.\")"
   ]
  },
  {
   "cell_type": "markdown",
   "id": "7e3250ff-09b3-4304-8bc2-9b303f728e27",
   "metadata": {},
   "source": [
    "## 45. Create a set of the first `n` powers of 2."
   ]
  },
  {
   "cell_type": "code",
   "execution_count": 35,
   "id": "aefbbd78-6e67-4db8-beca-d74c6702d048",
   "metadata": {},
   "outputs": [
    {
     "name": "stdout",
     "output_type": "stream",
     "text": [
      "{1, 2, 4, 8, 16}\n"
     ]
    }
   ],
   "source": [
    "def generate_powers_of_2(n):\n",
    "    powers_of_2 = set()\n",
    "    for i in range(n):\n",
    "        power = 2 ** i\n",
    "        powers_of_2.add(power)\n",
    "    return powers_of_2\n",
    "n = 5\n",
    "powers_set = generate_powers_of_2(n)\n",
    "print(powers_set)"
   ]
  },
  {
   "cell_type": "markdown",
   "id": "fec3fe5f-65b5-4512-9edc-ab86d8c6cb2b",
   "metadata": {},
   "source": [
    "## 46. Find the common elements between a set and a list."
   ]
  },
  {
   "cell_type": "code",
   "execution_count": 34,
   "id": "67dc1651-b4ff-43a5-a07a-f7294f3a3f0d",
   "metadata": {},
   "outputs": [
    {
     "name": "stdout",
     "output_type": "stream",
     "text": [
      "Common elements: [7, 9, 12]\n"
     ]
    }
   ],
   "source": [
    "my_set = {3, 7, 9, 12, 15}\n",
    "my_list = [7, 12, 5, 9]\n",
    "list_to_set = set(my_list)\n",
    "common_elements = []\n",
    "for element in my_set:\n",
    "    if element in list_to_set:\n",
    "        common_elements.append(element)\n",
    "print(\"Common elements:\", common_elements)"
   ]
  },
  {
   "cell_type": "markdown",
   "id": "e0747b9b-3ae0-4fc7-be7e-6af7051c737f",
   "metadata": {},
   "source": [
    "## 47. Create a set of the first `n` triangular numbers."
   ]
  },
  {
   "cell_type": "code",
   "execution_count": 32,
   "id": "1c5cb574-5a6a-4958-991c-fd17a2f7fdc1",
   "metadata": {},
   "outputs": [
    {
     "name": "stdin",
     "output_type": "stream",
     "text": [
      "Enter the value of n:  15\n"
     ]
    },
    {
     "name": "stdout",
     "output_type": "stream",
     "text": [
      "The set of the first 15 triangular numbers is: {1, 66, 3, 36, 6, 105, 10, 45, 78, 15, 21, 55, 120, 91, 28}\n"
     ]
    }
   ],
   "source": [
    "def generate_triangular_numbers(n):\n",
    "    triangular_numbers = set()  \n",
    "    for i in range(1, n + 1):\n",
    "        triangular_number = i * (i + 1) // 2  \n",
    "        triangular_numbers.add(triangular_number) \n",
    "    return triangular_numbers\n",
    "n = int(input(\"Enter the value of n: \"))\n",
    "triangular_set = generate_triangular_numbers(n)\n",
    "print(f\"The set of the first {n} triangular numbers is:\", triangular_set)"
   ]
  },
  {
   "cell_type": "markdown",
   "id": "60441e45-088f-48c0-83f9-0d32345447ed",
   "metadata": {},
   "source": [
    "## 48. Check if a set contains another set as a subset."
   ]
  },
  {
   "cell_type": "code",
   "execution_count": 33,
   "id": "c9411564-3134-4849-a495-ff97b0ae8a59",
   "metadata": {},
   "outputs": [
    {
     "name": "stdout",
     "output_type": "stream",
     "text": [
      "set2 is a subset of set1\n"
     ]
    }
   ],
   "source": [
    "set1 = {1, 2, 3, 4, 5}\n",
    "set2 = {3, 4}\n",
    "is_subset = set2.issubset(set1)\n",
    "if is_subset:\n",
    "    print(\"set2 is a subset of set1\")\n",
    "else:\n",
    "    print(\"set2 is not a subset of set1\")"
   ]
  },
  {
   "cell_type": "markdown",
   "id": "85c14b9e-cf37-4e5c-a8cd-5ec471b85ba0",
   "metadata": {},
   "source": [
    "## 49. Create a set of alternating 1s and 0s of length `n`."
   ]
  },
  {
   "cell_type": "code",
   "execution_count": 41,
   "id": "31b384e7-c19b-409a-897a-49a3218356e4",
   "metadata": {},
   "outputs": [
    {
     "name": "stdout",
     "output_type": "stream",
     "text": [
      "{0, 1}\n"
     ]
    }
   ],
   "source": [
    "def create_alternating_set(n):\n",
    "    alternating_set = set()\n",
    "    for i in range(n):\n",
    "        if i % 2 == 0:\n",
    "            alternating_set.add(1)  \n",
    "        else:\n",
    "            alternating_set.add(0)  \n",
    "\n",
    "    return alternating_set\n",
    "length_n = 10\n",
    "result = create_alternating_set(length_n)\n",
    "print(result)"
   ]
  },
  {
   "cell_type": "markdown",
   "id": "1453654d-a5ef-4846-afea-9f5a8e42540e",
   "metadata": {},
   "source": [
    "## 50. Merge multiple sets into one."
   ]
  },
  {
   "cell_type": "code",
   "execution_count": 42,
   "id": "e880ae94-d029-4261-87d2-5fdd43fa9add",
   "metadata": {},
   "outputs": [
    {
     "name": "stdout",
     "output_type": "stream",
     "text": [
      "Merged Set: {1, 2, 3, 4, 5, 6, 7}\n"
     ]
    }
   ],
   "source": [
    "set1 = {1, 2, 3}\n",
    "set2 = {3, 4, 5}\n",
    "set3 = {5, 6, 7}\n",
    "merged_set = set1.union(set2, set3)\n",
    "print(\"Merged Set:\", merged_set)"
   ]
  },
  {
   "cell_type": "markdown",
   "id": "be75420b-bbee-44e8-bb38-30546ff18fab",
   "metadata": {},
   "source": [
    "## Completed"
   ]
  },
  {
   "cell_type": "code",
   "execution_count": null,
   "id": "aab15936-fdb4-4ac7-8119-550906c44326",
   "metadata": {},
   "outputs": [],
   "source": []
  }
 ],
 "metadata": {
  "kernelspec": {
   "display_name": "Python 3 (ipykernel)",
   "language": "python",
   "name": "python3"
  },
  "language_info": {
   "codemirror_mode": {
    "name": "ipython",
    "version": 3
   },
   "file_extension": ".py",
   "mimetype": "text/x-python",
   "name": "python",
   "nbconvert_exporter": "python",
   "pygments_lexer": "ipython3",
   "version": "3.10.8"
  }
 },
 "nbformat": 4,
 "nbformat_minor": 5
}
